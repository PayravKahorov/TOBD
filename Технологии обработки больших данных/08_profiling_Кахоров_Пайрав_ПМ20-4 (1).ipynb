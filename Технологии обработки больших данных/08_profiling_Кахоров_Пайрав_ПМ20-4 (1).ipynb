{
 "cells": [
  {
   "cell_type": "markdown",
   "metadata": {},
   "source": [
    "# Оптимизация выполнения кода, векторизация, Numba"
   ]
  },
  {
   "cell_type": "markdown",
   "metadata": {},
   "source": [
    "__Автор задач: Блохин Н.В. (NVBlokhin@fa.ru)__\n",
    "\n",
    "Материалы:\n",
    "* Макрушин С.В. \"Оптимизация выполнения кода, векторизация, Numba\"\n",
    "* IPython Cookbook, Second Edition (2018), глава 4\n",
    "* https://ipython-books.github.io/43-profiling-your-code-line-by-line-with-line_profiler/\n",
    "* https://numba.pydata.org/numba-doc/latest/user/5minguide.html\n",
    "* https://numba.readthedocs.io/en/stable/reference/deprecation.html#deprecation-of-reflection-for-list-and-set-types"
   ]
  },
  {
   "cell_type": "markdown",
   "metadata": {},
   "source": [
    "## Задачи для совместного разбора"
   ]
  },
  {
   "cell_type": "code",
   "execution_count": 3,
   "metadata": {},
   "outputs": [
    {
     "name": "stdout",
     "output_type": "stream",
     "text": [
      "Collecting git+https://github.com/pyutils/line_profiler.git\n",
      "  Cloning https://github.com/pyutils/line_profiler.git to c:\\users\\payrav\\appdata\\local\\temp\\pip-req-build-c1yockuo\n"
     ]
    },
    {
     "name": "stderr",
     "output_type": "stream",
     "text": [
      "  Running command git clone -q https://github.com/pyutils/line_profiler.git 'C:\\Users\\Payrav\\AppData\\Local\\Temp\\pip-req-build-c1yockuo'\n",
      "  ERROR: Error [WinError 2] Не удается найти указанный файл while executing command git clone -q https://github.com/pyutils/line_profiler.git 'C:\\Users\\Payrav\\AppData\\Local\\Temp\\pip-req-build-c1yockuo'\n",
      "ERROR: Cannot find command 'git' - do you have 'git' installed and in your PATH?\n"
     ]
    },
    {
     "name": "stdout",
     "output_type": "stream",
     "text": [
      "Requirement already satisfied: line_profiler in c:\\users\\payrav\\anaconda3\\lib\\site-packages (3.5.1)\n"
     ]
    }
   ],
   "source": [
    "!pip install git+https://github.com/pyutils/line_profiler.git\n",
    "!pip install line_profiler"
   ]
  },
  {
   "cell_type": "code",
   "execution_count": 4,
   "metadata": {},
   "outputs": [],
   "source": [
    "import numpy as np\n",
    "from numba import njit"
   ]
  },
  {
   "cell_type": "markdown",
   "metadata": {},
   "source": [
    "1. Сгенерируйте массив `A` из `N=1млн` случайных целых чисел на отрезке от 0 до 1000. Пусть `B[i] = A[i] + 100`. Посчитайте среднее значение массива `B`."
   ]
  },
  {
   "cell_type": "code",
   "execution_count": 3,
   "metadata": {},
   "outputs": [
    {
     "data": {
      "text/plain": [
       "array([273,  52, 769, ..., 524, 955, 232])"
      ]
     },
     "execution_count": 3,
     "metadata": {},
     "output_type": "execute_result"
    }
   ],
   "source": [
    "np.random.randint(1,1_000,1_000_000)"
   ]
  },
  {
   "cell_type": "code",
   "execution_count": 4,
   "metadata": {},
   "outputs": [],
   "source": [
    "A = np.random.randint(0, 1000, size=(1000000))\n",
    "A\n",
    "\n",
    "def f1(A):\n",
    "    acc = 0\n",
    "    cnt = 0\n",
    "    for i in range(len(A)):\n",
    "        bi = A[i] + 100\n",
    "        acc += bi\n",
    "        cnt += 1\n",
    "    return acc / cnt"
   ]
  },
  {
   "cell_type": "code",
   "execution_count": 7,
   "metadata": {},
   "outputs": [
    {
     "name": "stdout",
     "output_type": "stream",
     "text": [
      "Wall time: 1.06 s\n"
     ]
    },
    {
     "data": {
      "text/plain": [
       "599.811461"
      ]
     },
     "execution_count": 7,
     "metadata": {},
     "output_type": "execute_result"
    }
   ],
   "source": [
    "%%time\n",
    "f1(A)"
   ]
  },
  {
   "cell_type": "code",
   "execution_count": 8,
   "metadata": {},
   "outputs": [
    {
     "name": "stdout",
     "output_type": "stream",
     "text": [
      "Wall time: 918 ms\n"
     ]
    },
    {
     "data": {
      "text/plain": [
       "599.811461"
      ]
     },
     "execution_count": 8,
     "metadata": {},
     "output_type": "execute_result"
    }
   ],
   "source": [
    "%time f1(A)"
   ]
  },
  {
   "cell_type": "code",
   "execution_count": 9,
   "metadata": {},
   "outputs": [
    {
     "name": "stdout",
     "output_type": "stream",
     "text": [
      "920 ms ± 53.1 ms per loop (mean ± std. dev. of 7 runs, 1 loop each)\n"
     ]
    }
   ],
   "source": [
    "%%timeit\n",
    "f1(A)"
   ]
  },
  {
   "cell_type": "code",
   "execution_count": 9,
   "metadata": {},
   "outputs": [],
   "source": [
    "# %time,%%time, %timeit"
   ]
  },
  {
   "cell_type": "markdown",
   "metadata": {},
   "source": [
    "2. Напишите функцию, которая возвращает сумму всех чисел от 0 до x-1. Примените функцию к каждому элементу массива."
   ]
  },
  {
   "cell_type": "markdown",
   "metadata": {},
   "source": [
    "3. Создайте таблицу 2млн строк и с 4 столбцами, заполненными случайными числами. Добавьте столбец `key`, которые содержит элементы из множества английских букв. Выберите из таблицы подмножество строк, для которых в столбце `key` указаны первые 5 английских букв."
   ]
  },
  {
   "cell_type": "code",
   "execution_count": 19,
   "metadata": {},
   "outputs": [],
   "source": [
    "%load_ext line_profiler"
   ]
  },
  {
   "cell_type": "code",
   "execution_count": 7,
   "metadata": {},
   "outputs": [
    {
     "data": {
      "text/html": [
       "<div>\n",
       "<style scoped>\n",
       "    .dataframe tbody tr th:only-of-type {\n",
       "        vertical-align: middle;\n",
       "    }\n",
       "\n",
       "    .dataframe tbody tr th {\n",
       "        vertical-align: top;\n",
       "    }\n",
       "\n",
       "    .dataframe thead th {\n",
       "        text-align: right;\n",
       "    }\n",
       "</style>\n",
       "<table border=\"1\" class=\"dataframe\">\n",
       "  <thead>\n",
       "    <tr style=\"text-align: right;\">\n",
       "      <th></th>\n",
       "      <th>col0</th>\n",
       "      <th>col1</th>\n",
       "      <th>col2</th>\n",
       "      <th>col3</th>\n",
       "      <th>key</th>\n",
       "    </tr>\n",
       "  </thead>\n",
       "  <tbody>\n",
       "    <tr>\n",
       "      <th>0</th>\n",
       "      <td>-0.076588</td>\n",
       "      <td>-1.521538</td>\n",
       "      <td>-1.190556</td>\n",
       "      <td>0.165123</td>\n",
       "      <td>r</td>\n",
       "    </tr>\n",
       "    <tr>\n",
       "      <th>1</th>\n",
       "      <td>0.236816</td>\n",
       "      <td>1.226909</td>\n",
       "      <td>-1.141244</td>\n",
       "      <td>-0.549996</td>\n",
       "      <td>u</td>\n",
       "    </tr>\n",
       "  </tbody>\n",
       "</table>\n",
       "</div>"
      ],
      "text/plain": [
       "       col0      col1      col2      col3 key\n",
       "0 -0.076588 -1.521538 -1.190556  0.165123   r\n",
       "1  0.236816  1.226909 -1.141244 -0.549996   u"
      ]
     },
     "execution_count": 7,
     "metadata": {},
     "output_type": "execute_result"
    }
   ],
   "source": [
    "import pandas as pd\n",
    "import string\n",
    "\n",
    "N = 2_000_000\n",
    "df = pd.DataFrame(np.random.randn(N, 4), columns=[f\"col{i}\" for i in range(4)])\n",
    "df[\"key\"] = np.random.choice(list(string.ascii_letters.lower()), N, replace=True)\n",
    "df.head(2)"
   ]
  },
  {
   "cell_type": "code",
   "execution_count": null,
   "metadata": {},
   "outputs": [],
   "source": [
    "import numpy as np\n",
    "from numba import njit\n",
    "\n",
    "1. Сгенерируйте массив `A` из `N=1млн` случайных целых чисел на отрезке от 0 до 1000. Пусть `B[i] = A[i] + 100`. Посчитайте среднее значение массива `B`.\n",
    "\n",
    "\n",
    "\n",
    "\n",
    "def f2(A):\n",
    "    acc = 0\n",
    "    n = len(A)\n",
    "    for i in range(n):\n",
    "        acc += A[i]\n",
    " \n",
    "    return acc / n + 100\n",
    "\n",
    "%%time\n",
    "f2(A)\n",
    "\n",
    "%%time\n",
    "A.mean() + 100\n",
    "\n",
    "import numba\n",
    "\n",
    "@njit\n",
    "def f3(A):\n",
    "    acc = 0\n",
    "    n = len(A)\n",
    "    for i in range(n):\n",
    "        acc += A[i]\n",
    "    return acc / n + 100\n",
    "\n",
    "%%time\n",
    "f3(A)\n",
    "\n",
    "%%time\n",
    "f3(A)\n",
    "\n",
    "2. Напишите функцию, которая возвращает сумму всех чисел от 0 до x-1. Примените функцию к каждому элементу массива.\n",
    "\n",
    "def g(x):\n",
    "    return sum(range(x))\n",
    "\n",
    "%%time\n",
    "np.array([g(x) for x in A])\n",
    "\n",
    "g_v = np.vectorize(g)\n",
    "\n",
    "%%time\n",
    "g_v(A)\n",
    "\n",
    "A.dtype\n",
    "\n",
    "g_v2 = numba.vectorize([\"int32(int32)\"])(g)\n",
    "\n",
    "%%time\n",
    "g_v2(A)\n",
    "\n",
    "3. Создайте таблицу 2млн строк и с 4 столбцами, заполненными случайными числами. Добавьте столбец `key`, которые содержит элементы из множества английских букв. Выберите из таблицы подмножество строк, для которых в столбце `key` указаны первые 5 английских букв.\n",
    "\n",
    "numba.__version__\n",
    "\n",
    "%load_ext line_profiler\n",
    "\n",
    "import pandas as pd\n",
    "import string\n",
    "\n",
    "N = 2_000_000\n",
    "df = pd.DataFrame(np.random.randn(N, 4), columns=[f\"col{i}\" for i in range(4)])\n",
    "df[\"key\"] = np.random.choice(list(string.ascii_letters.lower()), N, replace=True)\n",
    "df.head(2)\n",
    "\n",
    "def h1(df):\n",
    "    mask = []\n",
    "    for _, row in df.iterrows():\n",
    "        mask.append(row[\"key\"] in {\"a\", \"b\", \"c\", \"d\", \"e\"})\n",
    "    return df[mask]\n",
    "\n",
    "%%time\n",
    "h1(df.head(50000))\n",
    "\n",
    "%lprun -f h1 h1(df.head(50000))\n",
    "\n",
    "%%time\n",
    "df[df[\"key\"].isin({\"a\", \"b\", \"c\", \"d\", \"e\"})]"
   ]
  },
  {
   "cell_type": "markdown",
   "metadata": {},
   "source": [
    "## Лабораторная работа 3"
   ]
  },
  {
   "cell_type": "code",
   "execution_count": 8,
   "metadata": {},
   "outputs": [
    {
     "name": "stdout",
     "output_type": "stream",
     "text": [
      "The line_profiler extension is already loaded. To reload it, use:\n",
      "  %reload_ext line_profiler\n"
     ]
    }
   ],
   "source": [
    "import numpy as np\n",
    "import pandas as pd\n",
    "from numba import jit, njit\n",
    "import numba\n",
    "from typing import Union\n",
    "\n",
    "\n",
    "%load_ext line_profiler"
   ]
  },
  {
   "cell_type": "markdown",
   "metadata": {},
   "source": [
    "В файлах `recipes_sample.csv` и `reviews_sample.csv` (__ЛР 2__) находится информация об рецептах блюд и отзывах на эти рецепты соответственно. Загрузите данные из файлов в виде `pd.DataFrame` с названиями `recipes` и `reviews`. Обратите внимание на корректное считывание столбца(ов) с индексами. Приведите столбцы к нужным типам."
   ]
  },
  {
   "cell_type": "markdown",
   "metadata": {},
   "source": [
    "## Измерение времени выполнения кода"
   ]
  },
  {
   "cell_type": "markdown",
   "metadata": {},
   "source": [
    "Назовем полным описанием рецепта строку, полученную путем конкатенации названия и описания рецепта через пробел. Удалите строки для рецептов, которые были добавлены не в 2010 году.\n",
    "\n",
    "Реализуйте несколько вариантов функции подсчета средней длины полного описания рецепта для рецептов, добавленных в 2010 году."
   ]
  },
  {
   "cell_type": "code",
   "execution_count": 9,
   "metadata": {},
   "outputs": [],
   "source": [
    "recipes = pd.read_csv('recipes_sample.csv')\n",
    "reviews = pd.read_csv('reviews_sample.csv')"
   ]
  },
  {
   "cell_type": "code",
   "execution_count": 10,
   "metadata": {},
   "outputs": [
    {
     "data": {
      "text/html": [
       "<div>\n",
       "<style scoped>\n",
       "    .dataframe tbody tr th:only-of-type {\n",
       "        vertical-align: middle;\n",
       "    }\n",
       "\n",
       "    .dataframe tbody tr th {\n",
       "        vertical-align: top;\n",
       "    }\n",
       "\n",
       "    .dataframe thead th {\n",
       "        text-align: right;\n",
       "    }\n",
       "</style>\n",
       "<table border=\"1\" class=\"dataframe\">\n",
       "  <thead>\n",
       "    <tr style=\"text-align: right;\">\n",
       "      <th></th>\n",
       "      <th>name</th>\n",
       "      <th>id</th>\n",
       "      <th>minutes</th>\n",
       "      <th>contributor_id</th>\n",
       "      <th>submitted</th>\n",
       "      <th>n_steps</th>\n",
       "      <th>description</th>\n",
       "      <th>n_ingredients</th>\n",
       "    </tr>\n",
       "  </thead>\n",
       "  <tbody>\n",
       "    <tr>\n",
       "      <th>52</th>\n",
       "      <td>just peachy  cobbler</td>\n",
       "      <td>437637</td>\n",
       "      <td>70</td>\n",
       "      <td>1085867</td>\n",
       "      <td>2010-09-17</td>\n",
       "      <td>10.0</td>\n",
       "      <td>all i can say is yummmmmm . . . a simple to ma...</td>\n",
       "      <td>10.0</td>\n",
       "    </tr>\n",
       "    <tr>\n",
       "      <th>68</th>\n",
       "      <td>the heat  spicy party mix</td>\n",
       "      <td>437219</td>\n",
       "      <td>95</td>\n",
       "      <td>1682162</td>\n",
       "      <td>2010-09-13</td>\n",
       "      <td>NaN</td>\n",
       "      <td>a spicy chex mix that will really warm your gu...</td>\n",
       "      <td>11.0</td>\n",
       "    </tr>\n",
       "    <tr>\n",
       "      <th>81</th>\n",
       "      <td>iowa state fair  sweet dough caramel cinnamon ...</td>\n",
       "      <td>435816</td>\n",
       "      <td>80</td>\n",
       "      <td>17803</td>\n",
       "      <td>2010-08-24</td>\n",
       "      <td>29.0</td>\n",
       "      <td>this was the winning entry at the 2010 iowa st...</td>\n",
       "      <td>NaN</td>\n",
       "    </tr>\n",
       "    <tr>\n",
       "      <th>104</th>\n",
       "      <td>1 minute blueberries   cream</td>\n",
       "      <td>428566</td>\n",
       "      <td>2</td>\n",
       "      <td>1375473</td>\n",
       "      <td>2010-06-04</td>\n",
       "      <td>4.0</td>\n",
       "      <td>i was craving blueberry tonight but wanted non...</td>\n",
       "      <td>NaN</td>\n",
       "    </tr>\n",
       "    <tr>\n",
       "      <th>146</th>\n",
       "      <td>2 2 2 diet mocha</td>\n",
       "      <td>416599</td>\n",
       "      <td>5</td>\n",
       "      <td>789314</td>\n",
       "      <td>2010-03-15</td>\n",
       "      <td>5.0</td>\n",
       "      <td>while trying to come up with a satisfying \"sna...</td>\n",
       "      <td>7.0</td>\n",
       "    </tr>\n",
       "    <tr>\n",
       "      <th>...</th>\n",
       "      <td>...</td>\n",
       "      <td>...</td>\n",
       "      <td>...</td>\n",
       "      <td>...</td>\n",
       "      <td>...</td>\n",
       "      <td>...</td>\n",
       "      <td>...</td>\n",
       "      <td>...</td>\n",
       "    </tr>\n",
       "    <tr>\n",
       "      <th>29897</th>\n",
       "      <td>zoe s chicken tarragon</td>\n",
       "      <td>441211</td>\n",
       "      <td>40</td>\n",
       "      <td>76559</td>\n",
       "      <td>2010-11-04</td>\n",
       "      <td>12.0</td>\n",
       "      <td>from a good housekeeping at my hair salon.  ha...</td>\n",
       "      <td>9.0</td>\n",
       "    </tr>\n",
       "    <tr>\n",
       "      <th>29907</th>\n",
       "      <td>zucchini and noodle slice</td>\n",
       "      <td>412518</td>\n",
       "      <td>60</td>\n",
       "      <td>423555</td>\n",
       "      <td>2010-02-10</td>\n",
       "      <td>21.0</td>\n",
       "      <td>a yummy, tasty slice packed with vegies and ri...</td>\n",
       "      <td>13.0</td>\n",
       "    </tr>\n",
       "    <tr>\n",
       "      <th>29915</th>\n",
       "      <td>zucchini bread   bread machine</td>\n",
       "      <td>409757</td>\n",
       "      <td>220</td>\n",
       "      <td>539686</td>\n",
       "      <td>2010-01-22</td>\n",
       "      <td>7.0</td>\n",
       "      <td>originally from a packet of red star yeast, th...</td>\n",
       "      <td>NaN</td>\n",
       "    </tr>\n",
       "    <tr>\n",
       "      <th>29926</th>\n",
       "      <td>zucchini chip cupcakes</td>\n",
       "      <td>406686</td>\n",
       "      <td>35</td>\n",
       "      <td>628076</td>\n",
       "      <td>2010-01-04</td>\n",
       "      <td>9.0</td>\n",
       "      <td>this is a great tasting recipe to use up zucch...</td>\n",
       "      <td>14.0</td>\n",
       "    </tr>\n",
       "    <tr>\n",
       "      <th>29992</th>\n",
       "      <td>zucchini  courgette soup  good for weight watc...</td>\n",
       "      <td>415406</td>\n",
       "      <td>45</td>\n",
       "      <td>485109</td>\n",
       "      <td>2010-03-04</td>\n",
       "      <td>5.0</td>\n",
       "      <td>this is a favourite winter warmer. by british ...</td>\n",
       "      <td>NaN</td>\n",
       "    </tr>\n",
       "  </tbody>\n",
       "</table>\n",
       "<p>1538 rows × 8 columns</p>\n",
       "</div>"
      ],
      "text/plain": [
       "                                                    name      id  minutes  \\\n",
       "52                                  just peachy  cobbler  437637       70   \n",
       "68                             the heat  spicy party mix  437219       95   \n",
       "81     iowa state fair  sweet dough caramel cinnamon ...  435816       80   \n",
       "104                         1 minute blueberries   cream  428566        2   \n",
       "146                                     2 2 2 diet mocha  416599        5   \n",
       "...                                                  ...     ...      ...   \n",
       "29897                             zoe s chicken tarragon  441211       40   \n",
       "29907                          zucchini and noodle slice  412518       60   \n",
       "29915                     zucchini bread   bread machine  409757      220   \n",
       "29926                             zucchini chip cupcakes  406686       35   \n",
       "29992  zucchini  courgette soup  good for weight watc...  415406       45   \n",
       "\n",
       "       contributor_id   submitted  n_steps  \\\n",
       "52            1085867  2010-09-17     10.0   \n",
       "68            1682162  2010-09-13      NaN   \n",
       "81              17803  2010-08-24     29.0   \n",
       "104           1375473  2010-06-04      4.0   \n",
       "146            789314  2010-03-15      5.0   \n",
       "...               ...         ...      ...   \n",
       "29897           76559  2010-11-04     12.0   \n",
       "29907          423555  2010-02-10     21.0   \n",
       "29915          539686  2010-01-22      7.0   \n",
       "29926          628076  2010-01-04      9.0   \n",
       "29992          485109  2010-03-04      5.0   \n",
       "\n",
       "                                             description  n_ingredients  \n",
       "52     all i can say is yummmmmm . . . a simple to ma...           10.0  \n",
       "68     a spicy chex mix that will really warm your gu...           11.0  \n",
       "81     this was the winning entry at the 2010 iowa st...            NaN  \n",
       "104    i was craving blueberry tonight but wanted non...            NaN  \n",
       "146    while trying to come up with a satisfying \"sna...            7.0  \n",
       "...                                                  ...            ...  \n",
       "29897  from a good housekeeping at my hair salon.  ha...            9.0  \n",
       "29907  a yummy, tasty slice packed with vegies and ri...           13.0  \n",
       "29915  originally from a packet of red star yeast, th...            NaN  \n",
       "29926  this is a great tasting recipe to use up zucch...           14.0  \n",
       "29992  this is a favourite winter warmer. by british ...            NaN  \n",
       "\n",
       "[1538 rows x 8 columns]"
      ]
     },
     "execution_count": 10,
     "metadata": {},
     "output_type": "execute_result"
    }
   ],
   "source": [
    "# recipes['submitted'].dt.year\n",
    "recp_2 = recipes[pd.to_datetime(recipes['submitted']).dt.year == 2010]\n",
    "recp_2"
   ]
  },
  {
   "cell_type": "markdown",
   "metadata": {},
   "source": [
    "1\\.1 С использованием метода `DataFrame.iterrows` таблицы:\n",
    "\n",
    "    - функция принимает на вход таблицу, содержащую рецепты за 2010 год;\n",
    "    \n",
    "    - нахождение полного описания рецепта осуществляется внутри цикла по `iterrows` для каждой строки по отдельности."
   ]
  },
  {
   "cell_type": "code",
   "execution_count": 11,
   "metadata": {},
   "outputs": [],
   "source": [
    "def get_mean_len_A(df: pd.DataFrame) -> float:\n",
    "    count = 0 \n",
    "    for index, row in df.iterrows():\n",
    "        length = len(str(row['name'])) + len(str(row['description']))\n",
    "        count += length\n",
    "    return count/df.shape[0]"
   ]
  },
  {
   "cell_type": "code",
   "execution_count": 14,
   "metadata": {},
   "outputs": [
    {
     "name": "stdout",
     "output_type": "stream",
     "text": [
      "The line_profiler extension is already loaded. To reload it, use:\n",
      "  %reload_ext line_profiler\n"
     ]
    },
    {
     "data": {
      "text/plain": [
       "264.501300390117"
      ]
     },
     "execution_count": 14,
     "metadata": {},
     "output_type": "execute_result"
    }
   ],
   "source": [
    "%load_ext line_profiler\n",
    "get_mean_len_A(recp_2)\n"
   ]
  },
  {
   "cell_type": "code",
   "execution_count": null,
   "metadata": {},
   "outputs": [],
   "source": []
  },
  {
   "cell_type": "code",
   "execution_count": 108,
   "metadata": {},
   "outputs": [
    {
     "data": {
      "text/plain": [
       "1538"
      ]
     },
     "execution_count": 108,
     "metadata": {},
     "output_type": "execute_result"
    }
   ],
   "source": [
    "recp_2.shape[0]"
   ]
  },
  {
   "cell_type": "code",
   "execution_count": 118,
   "metadata": {},
   "outputs": [
    {
     "data": {
      "text/plain": [
       "229.43248119276984"
      ]
     },
     "execution_count": 118,
     "metadata": {},
     "output_type": "execute_result"
    }
   ],
   "source": [
    "(recipes['name'].str.len() + recipes['description'].str.len()).mean()"
   ]
  },
  {
   "cell_type": "code",
   "execution_count": null,
   "metadata": {},
   "outputs": [],
   "source": []
  },
  {
   "cell_type": "markdown",
   "metadata": {},
   "source": [
    "1\\.2. С использованием метода `DataFrame.apply` таблицы:\n",
    "\n",
    "    - функция принимает на вход таблицу, содержащую рецепты за 2010 год;\n",
    "    \n",
    "    - вызываете метод apply у таблицы, в качестве аргумента передаете функцию, которая возвращает полное описание для каждой строки;\n",
    "    \n",
    "    - считаете среднюю длину описаний, вызвав соответствующий метод серии."
   ]
  },
  {
   "cell_type": "code",
   "execution_count": 235,
   "metadata": {},
   "outputs": [],
   "source": [
    "\n",
    "def get_mean_len_B(df: pd.DataFrame):\n",
    "    l = df.apply(lambda x: len(x['name'] + x['description']), axis=1).mean()\n",
    "    return l \n",
    "\n",
    "\n"
   ]
  },
  {
   "cell_type": "code",
   "execution_count": 237,
   "metadata": {},
   "outputs": [
    {
     "name": "stdout",
     "output_type": "stream",
     "text": [
      "58.1 ms ± 993 µs per loop (mean ± std. dev. of 7 runs, 10 loops each)\n"
     ]
    }
   ],
   "source": [
    "%%timeit\n",
    "get_mean_len_B(recp_2)\n"
   ]
  },
  {
   "cell_type": "markdown",
   "metadata": {},
   "source": [
    "1\\.3. С использованием векторизованных методов серий `pd.Series`:\n",
    "\n",
    "    - функция принимает на вход таблицу, содержащую рецепты за 2010 год;\n",
    "    \n",
    "    - при помощи векторизированных операций получаете столбец с полным описанием;\n",
    "    \n",
    "    - при помощи векторизированных операций получаете длины полного описания;\n",
    "    \n",
    "    - при помощи векторизированных операций получаете среднюю длину полных описаний. "
   ]
  },
  {
   "cell_type": "code",
   "execution_count": 231,
   "metadata": {},
   "outputs": [],
   "source": [
    "def get_mean_len_C(df: pd.DataFrame) -> float:\n",
    "    return (df['name'] + df['description']).map(len).mean()"
   ]
  },
  {
   "cell_type": "code",
   "execution_count": 239,
   "metadata": {},
   "outputs": [
    {
     "data": {
      "text/plain": [
       "264.501300390117"
      ]
     },
     "execution_count": 239,
     "metadata": {},
     "output_type": "execute_result"
    }
   ],
   "source": [
    "get_mean_len_C(recp_2)"
   ]
  },
  {
   "cell_type": "markdown",
   "metadata": {},
   "source": [
    "1.4 Проверьте, что результаты работы всех написанных функций корректны и совпадают. Измерьте выполнения всех написанных функций при помощи магических команд `time` и `timeit`."
   ]
  },
  {
   "cell_type": "code",
   "execution_count": 242,
   "metadata": {},
   "outputs": [
    {
     "name": "stdout",
     "output_type": "stream",
     "text": [
      "219 ms ± 22.4 ms per loop (mean ± std. dev. of 7 runs, 1 loop each)\n"
     ]
    }
   ],
   "source": [
    "%%timeit\n",
    "get_mean_len_A(recp_2)"
   ]
  },
  {
   "cell_type": "code",
   "execution_count": 216,
   "metadata": {},
   "outputs": [
    {
     "name": "stdout",
     "output_type": "stream",
     "text": [
      "62 ms ± 8.28 ms per loop (mean ± std. dev. of 7 runs, 10 loops each)\n",
      "Wall time: 5.05 s\n"
     ]
    }
   ],
   "source": [
    "%%time\n",
    "%%timeit\n",
    "get_mean_len_B(recp_2)"
   ]
  },
  {
   "cell_type": "code",
   "execution_count": 234,
   "metadata": {},
   "outputs": [
    {
     "name": "stdout",
     "output_type": "stream",
     "text": [
      "1.88 ms ± 68.8 µs per loop (mean ± std. dev. of 7 runs, 100 loops each)\n"
     ]
    }
   ],
   "source": [
    "%%timeit\n",
    "get_mean_len_C(recp_2)"
   ]
  },
  {
   "cell_type": "markdown",
   "metadata": {},
   "source": [
    "## Анализ пошагового выполнения кода "
   ]
  },
  {
   "cell_type": "markdown",
   "metadata": {},
   "source": [
    "Вам предлагается воспользоваться функцией, которая собирает статистику о том, сколько отзывов содержат то или иное слово. "
   ]
  },
  {
   "cell_type": "code",
   "execution_count": 76,
   "metadata": {},
   "outputs": [],
   "source": [
    "import re\n",
    "\n",
    "\n",
    "def get_word_reviews_count(df):\n",
    "    word_reviews = {}\n",
    "    for _, row in df.dropna(subset = [\"review\"]).iterrows():\n",
    "        recipe_id, review = row[\"recipe_id\"], row[\"review\"]\n",
    "        words = re.sub(\"[^A-Za-z\\s]\", \"\", review).split(\" \")\n",
    "        for word in words:\n",
    "            if word not in word_reviews:\n",
    "                word_reviews[word] = []\n",
    "            word_reviews[word].append(recipe_id)\n",
    "\n",
    "    word_reviews_count = {}\n",
    "    for _, row in df.dropna(subset=[\"review\"]).iterrows():\n",
    "        review = row[\"review\"]\n",
    "        words = re.sub(\"[^A-Za-z\\s]\", \"\", review).split(\" \")\n",
    "        for word in words:\n",
    "            word_reviews_count[word] = len(word_reviews[word])\n",
    "    return word_reviews_count"
   ]
  },
  {
   "cell_type": "code",
   "execution_count": 264,
   "metadata": {},
   "outputs": [
    {
     "data": {
      "text/plain": [
       "{'Last': [245]}"
      ]
     },
     "execution_count": 264,
     "metadata": {},
     "output_type": "execute_result"
    }
   ],
   "source": [
    "# reviews.dropna(subset=['review'])\n",
    "# re.sub(\"[^A-Za-z\\s]\", \"\", str(reviews['review'])).split(\" \")\n",
    "word_reviews = {}\n",
    "word_reviews['Last'] = []\n",
    "word_reviews['Last'].append(245)\n",
    "word_reviews"
   ]
  },
  {
   "cell_type": "code",
   "execution_count": 60,
   "metadata": {},
   "outputs": [],
   "source": [
    "%lprun -f get_word_reviews_count get_word_reviews_count(reviews)\n",
    "\n"
   ]
  },
  {
   "cell_type": "markdown",
   "metadata": {},
   "source": [
    "2.1 Найдите узкие места в коде, проанализировав код функции по шагам, используя профайлер. Сохраните результаты работы профайлера в отдельную текстовую ячейку. Выпишите (словами), что в имеющемся коде реализовано неоптимально. "
   ]
  },
  {
   "cell_type": "code",
   "execution_count": 77,
   "metadata": {},
   "outputs": [
    {
     "name": "stdout",
     "output_type": "stream",
     "text": [
      "\n",
      "*** Profile printout saved to text file 'lprof0'. \n"
     ]
    }
   ],
   "source": [
    "%lprun -T lprof0 -f get_word_reviews_count get_word_reviews_count(reviews)\n"
   ]
  },
  {
   "cell_type": "code",
   "execution_count": 78,
   "metadata": {},
   "outputs": [
    {
     "name": "stdout",
     "output_type": "stream",
     "text": [
      "Timer unit: 1e-07 s\n",
      "\n",
      "Total time: 122.262 s\n",
      "File: <ipython-input-76-82f921a23349>\n",
      "Function: get_word_reviews_count at line 4\n",
      "\n",
      "Line #      Hits         Time  Per Hit   % Time  Line Contents\n",
      "==============================================================\n",
      "     4                                           def get_word_reviews_count(df):\n",
      "     5         1         27.0     27.0      0.0      word_reviews = {}\n",
      "     6    126680  344740500.0   2721.3     28.2      for _, row in df.dropna(subset = [\"review\"]).iterrows():\n",
      "     7    126679  123914418.0    978.2     10.1          recipe_id, review = row[\"recipe_id\"], row[\"review\"]\n",
      "     8    126679   32013853.0    252.7      2.6          words = re.sub(\"[^A-Za-z\\s]\", \"\", review).split(\" \")\n",
      "     9   6918689   37573819.0      5.4      3.1          for word in words:\n",
      "    10   6792010   56037369.0      8.3      4.6              if word not in word_reviews:\n",
      "    11     93059     950747.0     10.2      0.1                  word_reviews[word] = []\n",
      "    12   6792010   63468147.0      9.3      5.2              word_reviews[word].append(recipe_id)\n",
      "    13                                           \n",
      "    14         1         25.0     25.0      0.0      word_reviews_count = {}\n",
      "    15    126680  334624385.0   2641.5     27.4      for _, row in df.dropna(subset=[\"review\"]).iterrows():\n",
      "    16    126679   69956339.0    552.2      5.7          review = row[\"review\"]\n",
      "    17    126679   31487012.0    248.6      2.6          words = re.sub(\"[^A-Za-z\\s]\", \"\", review).split(\" \")\n",
      "    18   6918689   38691764.0      5.6      3.2          for word in words:\n",
      "    19   6792010   89158422.0     13.1      7.3              word_reviews_count[word] = len(word_reviews[word])\n",
      "    20         1         29.0     29.0      0.0      return word_reviews_count\n"
     ]
    }
   ],
   "source": [
    "print(open('lprof0','r').read())"
   ]
  },
  {
   "cell_type": "markdown",
   "metadata": {},
   "source": [
    "Здесь легко можно понять что, две основные циклы с iterrows() занимают больше всего по времени "
   ]
  },
  {
   "cell_type": "markdown",
   "metadata": {},
   "source": [
    "2.2  Оптимизируйте функцию и добейтесь значительного (как минимум, в 5 раз) прироста в скорости выполнения. Для демонстрации результата измерьте скорость выполнения оригинальной функции и функции, написанной вами."
   ]
  },
  {
   "cell_type": "code",
   "execution_count": 70,
   "metadata": {},
   "outputs": [],
   "source": [
    "import re\n",
    "\n",
    "\n",
    "def get_word_reviews_count(df):\n",
    "    word_reviews = {}\n",
    "    df1 = df.dropna(subset = ['review'])\n",
    "    words = re.sub(\"[^A-Za-z\\s]\", \"\", str(df1['review'])).split(\" \")\n",
    "    \n",
    "#     for _, row in df.dropna(subset = [\"review\"]).iterrows():\n",
    "#         recipe_id, review = row[\"recipe_id\"], row[\"review\"]\n",
    "#         words = re.sub(\"[^A-Za-z\\s]\", \"\", review).split(\" \")\n",
    "    for word in words:\n",
    "        if word not in word_reviews:\n",
    "            word_reviews[word] = 0\n",
    "        word_reviews[word] += 1 #.append(recipe_id)\n",
    "    return word_reviews\n",
    "#     word_reviews_count = {}\n",
    "#     for _, row in df.dropna(subset=[\"review\"]).iterrows():\n",
    "#         review = row[\"review\"]\n",
    "#         words = re.sub(\"[^A-Za-z\\s]\", \"\", review).split(\" \")\n",
    "#         for word in words:\n",
    "#             word_reviews_count[word] = len(word_reviews[word])\n",
    "#     return word_reviews_count"
   ]
  },
  {
   "cell_type": "code",
   "execution_count": 72,
   "metadata": {},
   "outputs": [
    {
     "name": "stdout",
     "output_type": "stream",
     "text": [
      "\n",
      "*** Profile printout saved to text file 'lprof0'. \n"
     ]
    }
   ],
   "source": [
    "%lprun -T lprof0 -f get_word_reviews_count get_word_reviews_count(reviews)\n"
   ]
  },
  {
   "cell_type": "code",
   "execution_count": 75,
   "metadata": {},
   "outputs": [
    {
     "name": "stdout",
     "output_type": "stream",
     "text": [
      "Timer unit: 1e-07 s\n",
      "\n",
      "Total time: 0.0527495 s\n",
      "File: <ipython-input-70-d36700fac4a2>\n",
      "Function: get_word_reviews_count at line 4\n",
      "\n",
      "Line #      Hits         Time  Per Hit   % Time  Line Contents\n",
      "==============================================================\n",
      "     4                                           def get_word_reviews_count(df):\n",
      "     5         1         19.0     19.0      0.0      word_reviews = {}\n",
      "     6         1     488191.0 488191.0     92.5      df1 = df.dropna(subset = ['review'])\n",
      "     7         1      35145.0  35145.0      6.7      words = re.sub(\"[^A-Za-z\\s]\", \"\", str(df1['review'])).split(\" \")\n",
      "     8                                               \n",
      "     9                                           #     for _, row in df.dropna(subset = [\"review\"]).iterrows():\n",
      "    10                                           #         recipe_id, review = row[\"recipe_id\"], row[\"review\"]\n",
      "    11                                           #         words = re.sub(\"[^A-Za-z\\s]\", \"\", review).split(\" \")\n",
      "    12       212       1000.0      4.7      0.2      for word in words:\n",
      "    13       211       1218.0      5.8      0.2          if word not in word_reviews:\n",
      "    14        77        466.0      6.1      0.1              word_reviews[word] = 0\n",
      "    15       211       1452.0      6.9      0.3          word_reviews[word] += 1 #.append(recipe_id)\n",
      "    16         1          4.0      4.0      0.0      return word_reviews\n"
     ]
    }
   ],
   "source": [
    "print(open('lprof0','r').read())"
   ]
  },
  {
   "cell_type": "code",
   "execution_count": 222,
   "metadata": {},
   "outputs": [
    {
     "name": "stdout",
     "output_type": "stream",
     "text": [
      "49.3 s ± 4.27 s per loop (mean ± std. dev. of 7 runs, 1 loop each)\n"
     ]
    }
   ],
   "source": [
    "%%timeit\n",
    "get_word_reviews_count(reviews) #было"
   ]
  },
  {
   "cell_type": "code",
   "execution_count": 67,
   "metadata": {},
   "outputs": [
    {
     "name": "stdout",
     "output_type": "stream",
     "text": [
      "38.2 ms ± 287 µs per loop (mean ± std. dev. of 7 runs, 10 loops each)\n"
     ]
    }
   ],
   "source": [
    "%%timeit #стало\n",
    "get_word_reviews_count(reviews) #Стало"
   ]
  },
  {
   "cell_type": "markdown",
   "metadata": {},
   "source": [
    "## Numba"
   ]
  },
  {
   "cell_type": "markdown",
   "metadata": {},
   "source": [
    "В файле `rating_predictions.json` хранятся данные о рейтингах рецептов и прогнозных значениях рейтингов для этого рецепта, полученных при помощи модели машинного обучения. \n",
    "\n",
    "Напишите несколько версий функции (см. [MAPE](https://en.wikipedia.org/wiki/Mean_absolute_percentage_error)) для расчета среднего абсолютного процентного отклонения значения рейтинга отзыва на рецепт от прогнозного значения рейтинга для данного рецепта. \n",
    "\n",
    "\n",
    "Замечание 1: в формуле MAPE под $A_t$ понимается рейтинг из отзыва $t$, под $F_t$ - прогнозное значения рейтинга отзыва $t$.\n",
    "\n",
    "Замечание 2: в результате работы функций должно получиться одно число - MAPE для всего набора данных."
   ]
  },
  {
   "cell_type": "code",
   "execution_count": 79,
   "metadata": {},
   "outputs": [],
   "source": [
    "import json"
   ]
  },
  {
   "cell_type": "code",
   "execution_count": 82,
   "metadata": {},
   "outputs": [],
   "source": [
    "with open('rating_predictions.json',\n",
    "         'r') as f:\n",
    "    book = json.load(f)\n",
    "# book"
   ]
  },
  {
   "cell_type": "code",
   "execution_count": 161,
   "metadata": {},
   "outputs": [
    {
     "name": "stdout",
     "output_type": "stream",
     "text": [
      "13.3252655039899\n"
     ]
    }
   ],
   "source": [
    "a = 0\n",
    "for i in book:\n",
    "    #a += sum(abs((i['rating'] - i['prediction'])/i['rating'])) * 100 / len(i['rating'])\n",
    "    a += abs((i['rating'] - i['prediction']) / i['rating']) * 100  / len(book) \n",
    "print(a)\n",
    "    "
   ]
  },
  {
   "cell_type": "code",
   "execution_count": 83,
   "metadata": {},
   "outputs": [],
   "source": [
    "def MAPE(book):\n",
    "    return book"
   ]
  },
  {
   "cell_type": "markdown",
   "metadata": {},
   "source": [
    "3\\.1 Создайте два списка `A_list` и `F_list` на основе файла `rating_predictions.json`. Напишите функцию `mape_lists` без использования векторизованных операций и методов массивов `numpy` и без использования `numba` (проитерируйтесь по спискам и вычислите суммарное значение MAPE для всех элементов, а потом усредните результат).\n",
    "\n",
    "Измерьте время выполнения данной функции на входных данных `A_list` и `F_list`. Временем, затрачиваемым на создание списков, можно пренебречь.\n",
    "    "
   ]
  },
  {
   "cell_type": "code",
   "execution_count": null,
   "metadata": {},
   "outputs": [],
   "source": []
  },
  {
   "cell_type": "markdown",
   "metadata": {},
   "source": [
    "3\\.2. Создайте массивы `numpy` `A_array` и `F_array` на основе списков `A_list` и `F_list`. Напишите функцию `mape_numpy` с использованием векторизованных операций и методов массивов `numpy`.\n",
    "\n",
    "Измерьте время выполнения данной функции на входных данных `A_array` и `F_array`. Временем, затрачиваемым на создание массивов, можно пренебречь."
   ]
  },
  {
   "cell_type": "code",
   "execution_count": 165,
   "metadata": {},
   "outputs": [],
   "source": [
    "A_list = np.array([list(i.values())[1] for i in book])\n",
    "F_list = np.array([list(i.values())[0] for i in book])"
   ]
  },
  {
   "cell_type": "code",
   "execution_count": 164,
   "metadata": {},
   "outputs": [],
   "source": [
    "def MAPE(A_list, F_list):\n",
    "    return sum(abs((A_list - F_list) / A_list)) *100 / len(A_list)\n",
    "    "
   ]
  },
  {
   "cell_type": "code",
   "execution_count": 166,
   "metadata": {},
   "outputs": [
    {
     "data": {
      "text/plain": [
       "11.949451393825532"
      ]
     },
     "execution_count": 166,
     "metadata": {},
     "output_type": "execute_result"
    }
   ],
   "source": [
    "MAPE(rating, prediction)"
   ]
  },
  {
   "cell_type": "markdown",
   "metadata": {},
   "source": [
    "3\\.3. Создайте объекты `numba.typed.List` `A_typed` и `F_typed` на основе списков `A_list` и `F_list`. Напишите функцию `mape_numba` без использования векторизованных операций и методов массивов `numpy`, но с использованием `numba`. \n",
    "\n",
    "Измерьте время выполнения данной функции на входных данных `A_typed` и `F_typed`. Временем, затрачиваемым на создание объектов `numba.typed.List`, можно пренебречь.\n",
    "\n",
    "Измерьте время выполнения данной функции на входных данных `A_numpy` и `F_numpy`."
   ]
  },
  {
   "cell_type": "markdown",
   "metadata": {},
   "source": [
    "## Векторизация"
   ]
  },
  {
   "cell_type": "markdown",
   "metadata": {},
   "source": [
    "Сайт-агрегатор устроил акцию: он дарит купоны на посещение ресторана тем пользователям, оставившим отзывы, идентификатор которых является _красивым числом_. Натуральное число называется _красивым_, если первая цифра числа совпадает с последней цифрой числа. \n",
    "\n"
   ]
  },
  {
   "cell_type": "markdown",
   "metadata": {},
   "source": [
    "4\\.1 Напишите функцию `is_pretty`, которая для каждого идентификатора пользователя из файла определяет, получит ли он подарок. Запрещается преобразовывать идентификатор пользователя к строке. Подтвердите корректность реализации, продемонстрировав примеры."
   ]
  },
  {
   "cell_type": "code",
   "execution_count": null,
   "metadata": {},
   "outputs": [],
   "source": [
    "ids = reviews[\"recipe_id\"].values"
   ]
  },
  {
   "cell_type": "code",
   "execution_count": null,
   "metadata": {},
   "outputs": [],
   "source": [
    "def is_pretty(n: int) -> bool:\n",
    "    pass"
   ]
  },
  {
   "cell_type": "markdown",
   "metadata": {},
   "source": [
    "4\\.2 Посчитайте с помощью функции `is_pretty` количество пользователей, которые получат подарок. Выведите это количество на экран. Измерьте время расчетов для входных данных `ids`."
   ]
  },
  {
   "cell_type": "markdown",
   "metadata": {},
   "source": [
    "4\\.3. При помощи `numpy` создайте векторизованную версию функции `is_pretty`. Посчитайте с помощью этой векторизованной функции количество пользователей, которые получат подарок. Выведите это количество на экран. Измерьте время расчетов для входных данных `ids`.\n"
   ]
  },
  {
   "cell_type": "markdown",
   "metadata": {},
   "source": [
    "4\\.4. При помощи `numba` создайте векторизованную версию функции `is_pretty`. Посчитайте с помощью этой векторизованной функции количество пользователей, которые получат подарок. Выведите это количество на экран. Измерьте время расчетов для входных данных `ids`.\n"
   ]
  }
 ],
 "metadata": {
  "kernelspec": {
   "display_name": "Python 3",
   "language": "python",
   "name": "python3"
  },
  "language_info": {
   "codemirror_mode": {
    "name": "ipython",
    "version": 3
   },
   "file_extension": ".py",
   "mimetype": "text/x-python",
   "name": "python",
   "nbconvert_exporter": "python",
   "pygments_lexer": "ipython3",
   "version": "3.8.3"
  }
 },
 "nbformat": 4,
 "nbformat_minor": 4
}
