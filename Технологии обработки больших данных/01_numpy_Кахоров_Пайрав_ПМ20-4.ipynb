{
 "cells": [
  {
   "cell_type": "markdown",
   "metadata": {},
   "source": [
    "# Numpy"
   ]
  },
  {
   "cell_type": "markdown",
   "metadata": {},
   "source": [
    "Материалы:\n",
    "* Макрушин С.В. \"Лекция 1: Библиотека Numpy\"\n",
    "* https://numpy.org/doc/stable/user/index.html\n",
    "* https://numpy.org/doc/stable/reference/index.html\n",
    "* Уэс Маккини. Python и анализ данных"
   ]
  },
  {
   "cell_type": "markdown",
   "metadata": {},
   "source": [
    "## Задачи для совместного разбора"
   ]
  },
  {
   "cell_type": "code",
   "execution_count": 1,
   "metadata": {},
   "outputs": [],
   "source": [
    "import numpy as np\n"
   ]
  },
  {
   "cell_type": "markdown",
   "metadata": {},
   "source": [
    "1. Сгенерировать двухмерный массив `arr` размерности (4, 7), состоящий из случайных действительных чисел, равномерно распределенных в диапазоне от 0 до 20. Нормализовать значения массива с помощью преобразования вида  $𝑎𝑥+𝑏$  так, что после нормализации максимальный элемент масcива будет равен 1.0, минимальный 0.0"
   ]
  },
  {
   "cell_type": "code",
   "execution_count": 3,
   "metadata": {},
   "outputs": [
    {
     "data": {
      "text/plain": [
       "array([[10.47908987, 15.54320463, 14.22506038, 12.61973574, 15.09258679,\n",
       "        17.87310883,  0.16143984],\n",
       "       [ 8.37692463,  9.89028998, 14.83882158,  2.99651752,  6.28176369,\n",
       "        13.17335254,  8.84777546],\n",
       "       [14.37650302,  7.17838231, 18.32287492, 15.604688  , 12.11790535,\n",
       "        10.73032276,  7.92593925],\n",
       "       [ 6.03200447,  5.22310495, 19.13030719,  1.07804795,  6.96494555,\n",
       "         2.15099818,  2.61460154]])"
      ]
     },
     "execution_count": 3,
     "metadata": {},
     "output_type": "execute_result"
    }
   ],
   "source": [
    "arr = np.random.uniform(low = 0, high = 20, size = (4,7))\n",
    "arr "
   ]
  },
  {
   "cell_type": "code",
   "execution_count": 7,
   "metadata": {},
   "outputs": [
    {
     "data": {
      "text/plain": [
       "array([[1.        , 0.71491457, 0.70977459, 0.65598887, 0.01962121,\n",
       "        0.36806473, 0.05490899],\n",
       "       [0.0580746 , 0.02629867, 0.96094436, 0.51848614, 0.66660122,\n",
       "        0.91130738, 0.5592069 ],\n",
       "       [0.98292174, 0.27210626, 0.63454427, 0.91839229, 0.2911465 ,\n",
       "        0.16409995, 0.05574912],\n",
       "       [0.69051907, 0.09236212, 0.56610923, 0.        , 0.46088343,\n",
       "        0.70729263, 0.26309883]])"
      ]
     },
     "execution_count": 7,
     "metadata": {},
     "output_type": "execute_result"
    }
   ],
   "source": [
    "(arr - arr.min()) / (arr.max() - arr.min())"
   ]
  },
  {
   "cell_type": "markdown",
   "metadata": {},
   "source": [
    "2. Создать матрицу 8 на 10 из случайных целых (используя модуль `numpy.random`) чисел из диапозона от 0 до 10 и найти в ней строку (ее индекс и вывести саму строку), в которой сумма значений минимальна."
   ]
  },
  {
   "cell_type": "code",
   "execution_count": 6,
   "metadata": {},
   "outputs": [
    {
     "data": {
      "text/plain": [
       "array([[6, 9, 1, 2, 8, 8, 4, 9, 8, 9],\n",
       "       [7, 9, 6, 0, 7, 4, 2, 4, 9, 6],\n",
       "       [5, 8, 3, 5, 2, 5, 5, 0, 8, 9],\n",
       "       [6, 0, 1, 7, 8, 8, 5, 2, 6, 2],\n",
       "       [3, 2, 2, 8, 7, 8, 1, 3, 2, 6],\n",
       "       [1, 9, 4, 7, 9, 3, 9, 9, 4, 0],\n",
       "       [5, 7, 4, 4, 8, 7, 6, 6, 4, 8],\n",
       "       [3, 8, 0, 3, 7, 0, 1, 1, 1, 1]])"
      ]
     },
     "execution_count": 6,
     "metadata": {},
     "output_type": "execute_result"
    }
   ],
   "source": [
    "arr = np.random.randint(low = 0, high = 10, size = (8,10))\n",
    "arr"
   ]
  },
  {
   "cell_type": "code",
   "execution_count": 7,
   "metadata": {},
   "outputs": [
    {
     "data": {
      "text/plain": [
       "array([2, 0, 5, 7, 8, 7, 4, 3])"
      ]
     },
     "execution_count": 7,
     "metadata": {},
     "output_type": "execute_result"
    }
   ],
   "source": [
    "arr[:, 3]"
   ]
  },
  {
   "cell_type": "raw",
   "metadata": {},
   "source": [
    "arr[4, 2]"
   ]
  },
  {
   "cell_type": "code",
   "execution_count": 19,
   "metadata": {},
   "outputs": [
    {
     "data": {
      "text/plain": [
       "array([64, 54, 50, 45, 42, 55, 59, 25])"
      ]
     },
     "execution_count": 19,
     "metadata": {},
     "output_type": "execute_result"
    }
   ],
   "source": [
    "arr.sum(axis = 1)"
   ]
  },
  {
   "cell_type": "code",
   "execution_count": 20,
   "metadata": {},
   "outputs": [
    {
     "data": {
      "text/plain": [
       "(7, array([3, 8, 0, 3, 7, 0, 1, 1, 1, 1]), 25)"
      ]
     },
     "execution_count": 20,
     "metadata": {},
     "output_type": "execute_result"
    }
   ],
   "source": [
    "sum_by_row = arr.sum(axis = 1)\n",
    "min_idx = sum_by_row.argmin()\n",
    "min_idx, arr[min_idx], arr[min_idx].sum()"
   ]
  },
  {
   "cell_type": "markdown",
   "metadata": {},
   "source": [
    "3. Найти евклидово расстояние между двумя одномерными векторами одинаковой размерности."
   ]
  },
  {
   "cell_type": "code",
   "execution_count": 21,
   "metadata": {},
   "outputs": [
    {
     "data": {
      "text/plain": [
       "2.0"
      ]
     },
     "execution_count": 21,
     "metadata": {},
     "output_type": "execute_result"
    }
   ],
   "source": [
    "x = np.array([1,2,3])\n",
    "y = np.array([1,4,3])\n",
    "np.sqrt(np.power(x-y,2).sum())"
   ]
  },
  {
   "cell_type": "markdown",
   "metadata": {},
   "source": [
    "4. Решить матричное уравнение `A*X*B=-C` - найти матрицу `X`. Где `A = [[-1, 2, 4], [-3, 1, 2], [-3, 0, 1]]`, `B=[[3, -1], [2, 1]]`, `C=[[7, 21], [11, 8], [8, 4]]`."
   ]
  },
  {
   "cell_type": "code",
   "execution_count": 31,
   "metadata": {},
   "outputs": [],
   "source": [
    "A = np.array([[-1, 2, 4], [-3, 1, 2], [-3, 0, 1]])\n",
    "B = np.array([[3, -1], [2, 1]])\n",
    "C = np.array([[7, 21], [11, 8], [8, 4]])"
   ]
  },
  {
   "cell_type": "code",
   "execution_count": 32,
   "metadata": {},
   "outputs": [
    {
     "data": {
      "text/plain": [
       "array([[ 1.00000000e+00,  5.32907052e-16],\n",
       "       [-2.00000000e+00,  1.00000000e+00],\n",
       "       [ 3.00000000e+00, -4.00000000e+00]])"
      ]
     },
     "execution_count": 32,
     "metadata": {},
     "output_type": "execute_result"
    }
   ],
   "source": [
    "X = np.linalg.inv(A) @ (-C) @ np.linalg.inv(B)\n",
    "X"
   ]
  },
  {
   "cell_type": "code",
   "execution_count": 39,
   "metadata": {},
   "outputs": [
    {
     "data": {
      "text/plain": [
       "array([[ -7., -21.],\n",
       "       [-11.,  -8.],\n",
       "       [ -8.,  -4.]])"
      ]
     },
     "execution_count": 39,
     "metadata": {},
     "output_type": "execute_result"
    }
   ],
   "source": [
    "A @ X @ B "
   ]
  },
  {
   "cell_type": "code",
   "execution_count": 41,
   "metadata": {},
   "outputs": [
    {
     "data": {
      "text/plain": [
       "array([[ -7, -21],\n",
       "       [-11,  -8],\n",
       "       [ -8,  -4]])"
      ]
     },
     "execution_count": 41,
     "metadata": {},
     "output_type": "execute_result"
    }
   ],
   "source": [
    "-C"
   ]
  },
  {
   "cell_type": "markdown",
   "metadata": {},
   "source": [
    "## Лабораторная работа №1"
   ]
  },
  {
   "cell_type": "markdown",
   "metadata": {},
   "source": [
    "__При решении данных задач не подразумевается использования циклов или генераторов Python, если в задании не сказано обратного. Решение должно опираться на использования функционала библиотеки `numpy`.__"
   ]
  },
  {
   "cell_type": "markdown",
   "metadata": {},
   "source": [
    "1. Файл `minutes_n_ingredients.csv` содержит информацию об идентификаторе рецепта, времени его выполнения в минутах и количестве необходимых ингредиентов. Считайте данные из этого файла в виде массива `numpy` типа `int32`, используя `np.loadtxt`. Выведите на экран первые 5 строк массива."
   ]
  },
  {
   "cell_type": "code",
   "execution_count": 37,
   "metadata": {},
   "outputs": [],
   "source": [
    "data = np.loadtxt(fname = 'minutes_n_ingredients.csv', dtype = str, delimiter = ',')"
   ]
  },
  {
   "cell_type": "code",
   "execution_count": 38,
   "metadata": {},
   "outputs": [
    {
     "data": {
      "text/plain": [
       "array([['id', 'minutes', 'n_ingredients'],\n",
       "       ['127244', '60', '16'],\n",
       "       ['23891', '25', '7'],\n",
       "       ['94746', '10', '6'],\n",
       "       ['67660', '5', '6'],\n",
       "       ['157911', '60', '14']], dtype='<U13')"
      ]
     },
     "execution_count": 38,
     "metadata": {},
     "output_type": "execute_result"
    }
   ],
   "source": [
    "data[:6,:]"
   ]
  },
  {
   "cell_type": "code",
   "execution_count": 90,
   "metadata": {},
   "outputs": [
    {
     "data": {
      "text/plain": [
       "array([['60', '16'],\n",
       "       ['25', '7'],\n",
       "       ['10', '6'],\n",
       "       ...,\n",
       "       ['65', '15'],\n",
       "       ['5', '4'],\n",
       "       ['140', '14']], dtype='<U13')"
      ]
     },
     "execution_count": 90,
     "metadata": {},
     "output_type": "execute_result"
    }
   ],
   "source": [
    "data[1:,1:]"
   ]
  },
  {
   "cell_type": "markdown",
   "metadata": {},
   "source": [
    "2. Вычислите среднее значение, минимум, максимум и медиану по каждому из столбцов, кроме первого."
   ]
  },
  {
   "cell_type": "code",
   "execution_count": 655,
   "metadata": {},
   "outputs": [
    {
     "data": {
      "text/plain": [
       "matrix([['Среднее', 'Минимум', 'Максимум'],\n",
       "        ['21601.00169', '0', '2147483647'],\n",
       "        ['9.05528', '1', '39']], dtype='<U11')"
      ]
     },
     "execution_count": 655,
     "metadata": {},
     "output_type": "execute_result"
    }
   ],
   "source": [
    "data_new = data[1:,:].astype(np.int)\n",
    "\n",
    "inf = ['Среднее','Минимум','Максимум']\n",
    "minutes_mean = [data_new[:,1].mean(), data_new[:,1].min(), data_new[:,1].max()] # Среднее, мин и макс по минутам\n",
    "ingr_mean = [data_new[:,2].mean(), data_new[:,2].min(), data_new[:,2].max()]    # Среднее, мин и макс по ингридиентам\n",
    "\n",
    "np.matrix([inf,minutes_mean,ingr_mean])"
   ]
  },
  {
   "cell_type": "code",
   "execution_count": null,
   "metadata": {},
   "outputs": [],
   "source": []
  },
  {
   "cell_type": "markdown",
   "metadata": {},
   "source": [
    "3. Выберите случайным образом и выведите информацию о 10 различных рецептах"
   ]
  },
  {
   "cell_type": "code",
   "execution_count": 654,
   "metadata": {},
   "outputs": [
    {
     "data": {
      "text/plain": [
       "array([[347632,     20,     10],\n",
       "       [272438,     22,      5],\n",
       "       [270397,     30,      8],\n",
       "       [ 66848,     45,     10],\n",
       "       [292914,     25,      3],\n",
       "       [308656,     20,      8],\n",
       "       [309788,     30,      6],\n",
       "       [185203,     25,      9],\n",
       "       [ 86315,     90,     14],\n",
       "       [ 30583,     20,      7]])"
      ]
     },
     "execution_count": 654,
     "metadata": {},
     "output_type": "execute_result"
    }
   ],
   "source": [
    "ten_rand_inf = data_new[np.random.randint(low = 0, high = len(data_new[:,0]), size = 10)]\n",
    "ten_rand_inf"
   ]
  },
  {
   "cell_type": "code",
   "execution_count": null,
   "metadata": {},
   "outputs": [],
   "source": []
  },
  {
   "cell_type": "markdown",
   "metadata": {},
   "source": [
    "4. Создайте версию массива, содержащую информацию только о рецептах, состоящих не более чем из 5 ингредиентов."
   ]
  },
  {
   "cell_type": "code",
   "execution_count": 152,
   "metadata": {},
   "outputs": [
    {
     "data": {
      "text/plain": [
       "(100000, 3)"
      ]
     },
     "execution_count": 152,
     "metadata": {},
     "output_type": "execute_result"
    }
   ],
   "source": [
    "data_new.shape"
   ]
  },
  {
   "cell_type": "code",
   "execution_count": 154,
   "metadata": {},
   "outputs": [
    {
     "data": {
      "text/plain": [
       "array([[446597,     15,      5],\n",
       "       [204134,      5,      3],\n",
       "       [ 25623,      6,      4],\n",
       "       ...,\n",
       "       [ 52088,     60,      5],\n",
       "       [128811,     15,      4],\n",
       "       [370915,      5,      4]])"
      ]
     },
     "execution_count": 154,
     "metadata": {},
     "output_type": "execute_result"
    }
   ],
   "source": [
    "five_ing = data_new[data_new[:,2] <= 5]\n",
    "five_ing"
   ]
  },
  {
   "cell_type": "markdown",
   "metadata": {},
   "source": [
    "5. Выведите процент рецептов, кол-во ингредиентов в которых меньше среднего."
   ]
  },
  {
   "cell_type": "code",
   "execution_count": 182,
   "metadata": {},
   "outputs": [
    {
     "name": "stdout",
     "output_type": "stream",
     "text": [
      "58.802 %\n"
     ]
    }
   ],
   "source": [
    "print((data_new[data_new[:,2] < ingr_mean[0]].shape[0] / data_new.shape[0]) * 100,'%')"
   ]
  },
  {
   "cell_type": "code",
   "execution_count": 649,
   "metadata": {},
   "outputs": [
    {
     "data": {
      "text/plain": [
       "9.05528"
      ]
     },
     "execution_count": 649,
     "metadata": {},
     "output_type": "execute_result"
    }
   ],
   "source": [
    "ingr_mean[0]"
   ]
  },
  {
   "cell_type": "markdown",
   "metadata": {},
   "source": [
    "6. Вычислите значение $q_{0.75}$ третьего квартиля продолжительности выполнения рецепта. Замените в этом столбце значения, большие чем $q_{0.75}$ на величину $q_{0.75}$."
   ]
  },
  {
   "cell_type": "code",
   "execution_count": 190,
   "metadata": {},
   "outputs": [
    {
     "data": {
      "text/plain": [
       "65"
      ]
     },
     "execution_count": 190,
     "metadata": {},
     "output_type": "execute_result"
    }
   ],
   "source": [
    "q_075 = data_new[int(data_new.shape[0]*0.75)][1]\n",
    "q_075"
   ]
  },
  {
   "cell_type": "code",
   "execution_count": 646,
   "metadata": {},
   "outputs": [],
   "source": [
    "q_075_col = np.where(data_new[:,1] > q_075,data_new[:,1],q_075)\n",
    "\n",
    "# data_new[:,1] > q_075\n",
    "# a = np.arange(10)\n",
    "# a\n",
    "# np.where(a != 3, a, 65)"
   ]
  },
  {
   "cell_type": "code",
   "execution_count": 229,
   "metadata": {},
   "outputs": [
    {
     "data": {
      "text/plain": [
       "matrix([[127244,  23891,  94746],\n",
       "        [ 67660, 157911, 152828],\n",
       "        [ 33941, 446597, 366174],\n",
       "        ...,\n",
       "        [     5,      4,     10],\n",
       "        [     8,      7,     15],\n",
       "        [    15,      4,     14]])"
      ]
     },
     "execution_count": 229,
     "metadata": {},
     "output_type": "execute_result"
    }
   ],
   "source": [
    "q_075_data = np.matrix([data_new[:,0],q_075_col,data_new[:,2]])\n",
    "q_075_data.reshape((100000,3))"
   ]
  },
  {
   "cell_type": "code",
   "execution_count": 648,
   "metadata": {},
   "outputs": [
    {
     "data": {
      "text/plain": [
       "matrix([[127244,  23891,  94746, ..., 498432, 370915,  81993],\n",
       "        [    65,     65,     65, ...,     65,     65,    140],\n",
       "        [    16,      7,      6, ...,     15,      4,     14]])"
      ]
     },
     "execution_count": 648,
     "metadata": {},
     "output_type": "execute_result"
    }
   ],
   "source": [
    "q_075_data"
   ]
  },
  {
   "cell_type": "code",
   "execution_count": 647,
   "metadata": {},
   "outputs": [
    {
     "data": {
      "text/plain": [
       "array([60, 25, 10, ..., 65,  5, 65])"
      ]
     },
     "execution_count": 647,
     "metadata": {},
     "output_type": "execute_result"
    }
   ],
   "source": [
    "np.where(data_new[:,1] > q_075, q_075,data_new[:,1])"
   ]
  },
  {
   "cell_type": "markdown",
   "metadata": {},
   "source": [
    "7. Посчитайте, для скольких рецептов исходного массива указана продолжительность, равная нулю. Модифицируйте исходный массив, заменив для таких строк значение в данном столбце на 1."
   ]
  },
  {
   "cell_type": "code",
   "execution_count": 248,
   "metadata": {},
   "outputs": [
    {
     "data": {
      "text/plain": [
       "0"
      ]
     },
     "execution_count": 248,
     "metadata": {},
     "output_type": "execute_result"
    }
   ],
   "source": [
    "data_new[:,1].min()"
   ]
  },
  {
   "cell_type": "code",
   "execution_count": null,
   "metadata": {},
   "outputs": [],
   "source": []
  },
  {
   "cell_type": "code",
   "execution_count": 645,
   "metadata": {},
   "outputs": [
    {
     "data": {
      "text/plain": [
       "411"
      ]
     },
     "execution_count": 645,
     "metadata": {},
     "output_type": "execute_result"
    }
   ],
   "source": [
    "# кол-во 0 в столбце minutes\n",
    "np.unique(data_new[:,1], return_index = True)[1][0]\n"
   ]
  },
  {
   "cell_type": "code",
   "execution_count": 265,
   "metadata": {},
   "outputs": [
    {
     "data": {
      "text/plain": [
       "array([[127244,     60,     16],\n",
       "       [ 23891,     25,      7],\n",
       "       [ 94746,     10,      6],\n",
       "       ...,\n",
       "       [498432,     65,     15],\n",
       "       [370915,      5,      4],\n",
       "       [ 81993,    140,     14]])"
      ]
     },
     "execution_count": 265,
     "metadata": {},
     "output_type": "execute_result"
    }
   ],
   "source": [
    "np.where(data_new == 0, 1,data_new)"
   ]
  },
  {
   "cell_type": "code",
   "execution_count": null,
   "metadata": {},
   "outputs": [],
   "source": []
  },
  {
   "cell_type": "markdown",
   "metadata": {},
   "source": [
    "8. Найдите множество возможных значений величины количества ингредиентов и количество вхождений каждого из уникальных значений в набор данных. Используя `numpy.isin`, выясните, какие числа из отрезка [1, 41] отсуствуют в данном множестве и выведите их на экран. "
   ]
  },
  {
   "cell_type": "code",
   "execution_count": 290,
   "metadata": {},
   "outputs": [],
   "source": [
    "#set(np.arange(1,42)),(set(data_new[:,2]))"
   ]
  },
  {
   "cell_type": "code",
   "execution_count": 396,
   "metadata": {},
   "outputs": [
    {
     "data": {
      "text/plain": [
       "(array([ 1,  2,  3,  4,  5,  6,  7,  8,  9, 10, 11, 12, 13, 14, 15, 16, 17,\n",
       "        18, 19, 20, 21, 22, 23, 24, 25, 26, 27, 28, 29, 30, 31, 32, 33, 34,\n",
       "        35, 37, 39]),\n",
       " array([   13,   926,  2895,  5515,  7913,  9376, 10628, 10951, 10585,\n",
       "         9591,  8297,  6605,  4997,  3663,  2595,  1767,  1246,   790,\n",
       "          573,   376,   217,   161,   105,    69,    50,    28,    16,\n",
       "           16,    12,    12,     3,     1,     2,     1,     3,     1,\n",
       "            1], dtype=int64))"
      ]
     },
     "execution_count": 396,
     "metadata": {},
     "output_type": "execute_result"
    }
   ],
   "source": [
    "values, counts = (np.unique(data_new[:,2], return_counts = True))\n",
    "values, counts"
   ]
  },
  {
   "cell_type": "code",
   "execution_count": 291,
   "metadata": {},
   "outputs": [
    {
     "data": {
      "text/plain": [
       "{36, 38, 40, 41}"
      ]
     },
     "execution_count": 291,
     "metadata": {},
     "output_type": "execute_result"
    }
   ],
   "source": [
    "set(np.arange(1,42)) - (set(data_new[:,2]))\n"
   ]
  },
  {
   "cell_type": "code",
   "execution_count": 391,
   "metadata": {},
   "outputs": [
    {
     "data": {
      "text/plain": [
       "array(False)"
      ]
     },
     "execution_count": 391,
     "metadata": {},
     "output_type": "execute_result"
    }
   ],
   "source": [
    "np.isin(set(np.arange(1,42)),set(data_new[:,2]))"
   ]
  },
  {
   "cell_type": "markdown",
   "metadata": {},
   "source": [
    "9. Для каждого рецепта посчитайте, сколько в среднем ингредиентов приходится на одну минуту рецепта. Найдите максимальное значение этой величины для всего датасета."
   ]
  },
  {
   "cell_type": "code",
   "execution_count": 311,
   "metadata": {},
   "outputs": [
    {
     "data": {
      "text/plain": [
       "array([16,  7,  6, ..., 15,  4, 14])"
      ]
     },
     "execution_count": 311,
     "metadata": {},
     "output_type": "execute_result"
    }
   ],
   "source": [
    "data_new[:,2] "
   ]
  },
  {
   "cell_type": "code",
   "execution_count": 339,
   "metadata": {},
   "outputs": [
    {
     "name": "stdout",
     "output_type": "stream",
     "text": [
      "24.0 - максимальное значение\n"
     ]
    }
   ],
   "source": [
    "print((data_new[:,2] / np.where(data_new[:,1] == 0, 1, data_new[:,1])).max(),'- максимальное значение')"
   ]
  },
  {
   "cell_type": "code",
   "execution_count": null,
   "metadata": {},
   "outputs": [],
   "source": []
  },
  {
   "cell_type": "markdown",
   "metadata": {},
   "source": [
    "10. Вычислите среднее количество ингредиентов для топ-100 рецептов с наибольшей продолжительностью"
   ]
  },
  {
   "cell_type": "code",
   "execution_count": 370,
   "metadata": {},
   "outputs": [],
   "source": [
    "#1\n",
    "min_without_0 = np.where(data_new[:,1] == 0, 1, data_new[:,1])\n",
    "top_100 = np.sort(min_without_0)[::-1][:100]"
   ]
  },
  {
   "cell_type": "code",
   "execution_count": 418,
   "metadata": {},
   "outputs": [
    {
     "name": "stdout",
     "output_type": "stream",
     "text": [
      "6.616161616161616 - среднее кол-во\n"
     ]
    }
   ],
   "source": [
    "indexes = np.where(data_new[:,1] > top_100[-1]) \n",
    "print(data_new[:,2][indexes].mean(),'- среднее кол-во')"
   ]
  },
  {
   "cell_type": "code",
   "execution_count": null,
   "metadata": {},
   "outputs": [],
   "source": []
  },
  {
   "cell_type": "code",
   "execution_count": 538,
   "metadata": {},
   "outputs": [
    {
     "data": {
      "text/plain": [
       "6.61"
      ]
     },
     "execution_count": 538,
     "metadata": {},
     "output_type": "execute_result"
    }
   ],
   "source": [
    "#2\n",
    "data_new[(np.argsort(data_new[:,1])[::-1][:100])][:,2].mean()"
   ]
  },
  {
   "cell_type": "markdown",
   "metadata": {},
   "source": [
    "11. Назовем \"простым\" такой рецепт, длительность выполнения которого не больше 20 минут и кол-во ингредиентов в котором не больше 5. Создайте версию датасета с дополнительным столбцом, значениями которого являются 1, если рецепт простой, и 0 в противном случае. Выведите процент \"простых\" рецептов в датасете."
   ]
  },
  {
   "cell_type": "code",
   "execution_count": 598,
   "metadata": {},
   "outputs": [
    {
     "data": {
      "text/plain": [
       "array([[127244,     60,     16,      0],\n",
       "       [ 23891,     25,      7,      0],\n",
       "       [ 94746,     10,      6,      0],\n",
       "       ...,\n",
       "       [498432,     65,     15,      0],\n",
       "       [370915,      5,      4,      1],\n",
       "       [ 81993,    140,     14,      0]])"
      ]
     },
     "execution_count": 598,
     "metadata": {},
     "output_type": "execute_result"
    }
   ],
   "source": [
    "#1\n",
    "true_false = (np.where(data_new[:, 1] < 20,  1,0) * np.where(data_new[:, 2] < 5,  1,0))\n",
    "np.column_stack((data_new, true_false))"
   ]
  },
  {
   "cell_type": "code",
   "execution_count": 613,
   "metadata": {},
   "outputs": [
    {
     "name": "stdout",
     "output_type": "stream",
     "text": [
      "5.093 - %\n"
     ]
    }
   ],
   "source": [
    "print((true_false.sum()  / len(true_false)) * 100, '- %')"
   ]
  },
  {
   "cell_type": "code",
   "execution_count": 615,
   "metadata": {},
   "outputs": [
    {
     "data": {
      "text/plain": [
       "array([[127244,     60,     16,      0],\n",
       "       [ 23891,     25,      7,      0],\n",
       "       [ 94746,     10,      6,      0],\n",
       "       ...,\n",
       "       [498432,     65,     15,      0],\n",
       "       [370915,      5,      4,      1],\n",
       "       [ 81993,    140,     14,      0]])"
      ]
     },
     "execution_count": 615,
     "metadata": {},
     "output_type": "execute_result"
    }
   ],
   "source": [
    "#2\n",
    "true_false_2 = np.where((data_new[:, 1] < 20) & (data_new[:, 2] < 5), 1,0)\n",
    "np.column_stack((data_new, true_false_2))\n"
   ]
  },
  {
   "cell_type": "code",
   "execution_count": 616,
   "metadata": {},
   "outputs": [
    {
     "name": "stdout",
     "output_type": "stream",
     "text": [
      "5.093 - %\n"
     ]
    }
   ],
   "source": [
    "print((true_false_2.sum()  / len(true_false_2)) * 100, '- %')"
   ]
  },
  {
   "cell_type": "code",
   "execution_count": 617,
   "metadata": {},
   "outputs": [],
   "source": [
    "# data_new[:,1] < 20, data_new[:,2] < 5"
   ]
  },
  {
   "cell_type": "code",
   "execution_count": null,
   "metadata": {},
   "outputs": [],
   "source": []
  },
  {
   "cell_type": "code",
   "execution_count": null,
   "metadata": {},
   "outputs": [],
   "source": []
  },
  {
   "cell_type": "markdown",
   "metadata": {},
   "source": [
    "12. Разделим рецепты на группы по следующему правилу. Назовем рецепты короткими, если их продолжительность составляет менее 10 минут; стандартными, если их продолжительность составляет не менее 10, но менее 20 минут; и длинными, если их продолжительность составляет не менее 20 минут. Создайте трехмерный массив, где нулевая ось отвечает за номер группы (короткий, стандартный или длинный рецепт), первая ось - за сам рецепт и вторая ось - за характеристики рецепта. Выберите максимальное количество рецептов из каждой группы таким образом, чтобы было возможно сформировать трехмерный массив. Выведите форму полученного массива."
   ]
  },
  {
   "cell_type": "code",
   "execution_count": 685,
   "metadata": {},
   "outputs": [],
   "source": [
    "def type_recp(minutes):\n",
    "    return np.where(minutes < 10, 0, np.where(minutes < 20, 1, 2))\n",
    "\n",
    "group_recp = type_recp(data_new[:, 1]).reshape((data_new.shape[0],))\n",
    "\n"
   ]
  },
  {
   "cell_type": "code",
   "execution_count": 686,
   "metadata": {},
   "outputs": [],
   "source": [
    "new_matr = np.column_stack((data_new, group_recp))"
   ]
  },
  {
   "cell_type": "code",
   "execution_count": 687,
   "metadata": {},
   "outputs": [
    {
     "data": {
      "text/plain": [
       "(array([0, 1, 2]), array([3, 2, 0], dtype=int64))"
      ]
     },
     "execution_count": 687,
     "metadata": {},
     "output_type": "execute_result"
    }
   ],
   "source": [
    "np.unique(new_matr[:,3], return_index = True)\n"
   ]
  },
  {
   "cell_type": "markdown",
   "metadata": {},
   "source": [
    "13. Пусть в среднем одна минута работы повара стоит ресторану 5 ед., а средняя стоимость одного ингредиента составляет 10 ед. \n",
    "Создайте вектор-столбец `numpy`, содержащий данную информацию. Посчитайте среднюю стоимость приготовления для каждого из первых 10 рецептов в наборе данных."
   ]
  },
  {
   "cell_type": "code",
   "execution_count": 641,
   "metadata": {},
   "outputs": [
    {
     "data": {
      "text/plain": [
       "array([[127244,     60,     16,    460],\n",
       "       [ 23891,     25,      7,    195],\n",
       "       [ 94746,     10,      6,    110],\n",
       "       [ 67660,      5,      6,     85],\n",
       "       [157911,     60,     14,    440],\n",
       "       [152828,     40,      7,    270],\n",
       "       [ 33941,     18,      9,    180],\n",
       "       [446597,     15,      5,    125],\n",
       "       [366174,      7,      9,    125],\n",
       "       [ 74205,     20,      7,    170],\n",
       "       [504666,     65,     20,    525]])"
      ]
     },
     "execution_count": 641,
     "metadata": {},
     "output_type": "execute_result"
    }
   ],
   "source": [
    "twel_task = (data_new[:,2] * 10  + data_new[:,1]*5)[:11]\n",
    "np.column_stack((data_new[:11,:], twel_task))"
   ]
  }
 ],
 "metadata": {
  "kernelspec": {
   "display_name": "Python 3",
   "language": "python",
   "name": "python3"
  },
  "language_info": {
   "codemirror_mode": {
    "name": "ipython",
    "version": 3
   },
   "file_extension": ".py",
   "mimetype": "text/x-python",
   "name": "python",
   "nbconvert_exporter": "python",
   "pygments_lexer": "ipython3",
   "version": "3.8.3"
  }
 },
 "nbformat": 4,
 "nbformat_minor": 4
}
