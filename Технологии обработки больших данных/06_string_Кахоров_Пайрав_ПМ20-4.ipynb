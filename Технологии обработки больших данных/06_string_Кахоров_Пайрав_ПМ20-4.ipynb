{
 "cells": [
  {
   "cell_type": "markdown",
   "metadata": {},
   "source": [
    "# Работа со строковыми значениями"
   ]
  },
  {
   "cell_type": "markdown",
   "metadata": {},
   "source": [
    "__Автор задач: Блохин Н.В. (NVBlokhin@fa.ru)__\n",
    "\n",
    "Материалы:\n",
    "* Макрушин С.В. Лекция \"Работа со строковыми значениям\"\n",
    "* https://pyformat.info/\n",
    "* https://docs.python.org/3/library/re.html\n",
    "    * https://docs.python.org/3/library/re.html#flags\n",
    "    * https://docs.python.org/3/library/re.html#functions\n",
    "* https://pythonru.com/primery/primery-primeneniya-regulyarnyh-vyrazheniy-v-python\n",
    "* https://kanoki.org/2019/11/12/how-to-use-regex-in-pandas/\n",
    "* https://realpython.com/nltk-nlp-python/"
   ]
  },
  {
   "cell_type": "markdown",
   "metadata": {},
   "source": [
    "## Задачи для совместного разбора"
   ]
  },
  {
   "cell_type": "markdown",
   "metadata": {},
   "source": [
    "1. Вывести на экран данные из словаря `obj` построчно в виде `k = v`, задав формат таким образом, чтобы знак равенства оказался на одной и той же позиции во всех строках. Строковые литералы обернуть в кавычки."
   ]
  },
  {
   "cell_type": "code",
   "execution_count": 1,
   "metadata": {},
   "outputs": [],
   "source": [
    "obj = {\n",
    "    \"home_page\": \"https://github.com/pypa/sampleproject\",\n",
    "    \"keywords\": \"sample setuptools development\",\n",
    "    \"license\": \"MIT\",\n",
    "}"
   ]
  },
  {
   "cell_type": "markdown",
   "metadata": {},
   "source": [
    "2. Написать регулярное выражение,которое позволит найти номера групп студентов."
   ]
  },
  {
   "cell_type": "code",
   "execution_count": 4,
   "metadata": {},
   "outputs": [
    {
     "data": {
      "text/plain": [
       "0    Евгения гр.ПМ19-1\n",
       "1         Илья пм 20-4\n",
       "2            Анна 20-3\n",
       "dtype: object"
      ]
     },
     "execution_count": 4,
     "metadata": {},
     "output_type": "execute_result"
    }
   ],
   "source": [
    "obj = pd.Series([\"Евгения гр.ПМ19-1\", \"Илья пм 20-4\", \"Анна 20-3\"])\n",
    "obj"
   ]
  },
  {
   "cell_type": "code",
   "execution_count": null,
   "metadata": {},
   "outputs": [],
   "source": [
    "import nltk\n",
    "nltk.download('punkt')"
   ]
  },
  {
   "cell_type": "code",
   "execution_count": 12,
   "metadata": {},
   "outputs": [],
   "source": [
    "import re"
   ]
  },
  {
   "cell_type": "code",
   "execution_count": 13,
   "metadata": {},
   "outputs": [],
   "source": [
    "?re\n"
   ]
  },
  {
   "cell_type": "markdown",
   "metadata": {},
   "source": [
    "3. Разбейте текст формулировки задачи 2 на слова."
   ]
  },
  {
   "cell_type": "markdown",
   "metadata": {},
   "source": [
    "## Лабораторная работа 6"
   ]
  },
  {
   "cell_type": "markdown",
   "metadata": {},
   "source": [
    "### Форматирование строк"
   ]
  },
  {
   "cell_type": "markdown",
   "metadata": {},
   "source": [
    "1\\. Загрузите данные из файла `recipes_sample.csv` (__ЛР2__) в виде `pd.DataFrame` `recipes` При помощи форматирования строк выведите информацию об id рецепта и времени выполнения 5 случайных рецептов в виде таблицы следующего вида:\n",
    "\n",
    "    \n",
    "    |      id      |  minutes  |\n",
    "    |--------------------------|\n",
    "    |    61178     |    65     |\n",
    "    |    202352    |    80     |\n",
    "    |    364322    |    150    |\n",
    "    |    26177     |    20     |\n",
    "    |    224785    |    35     |\n",
    "    \n",
    "Обратите внимание, что ширина столбцов заранее неизвестна и должна рассчитываться динамически, в зависимости от тех данных, которые были выбраны. "
   ]
  },
  {
   "cell_type": "code",
   "execution_count": 2,
   "metadata": {},
   "outputs": [],
   "source": [
    "import pandas as pd"
   ]
  },
  {
   "cell_type": "code",
   "execution_count": 915,
   "metadata": {},
   "outputs": [],
   "source": [
    "recipes = pd.read_csv('recipes_sample.csv')"
   ]
  },
  {
   "cell_type": "code",
   "execution_count": 917,
   "metadata": {},
   "outputs": [],
   "source": [
    "#f\"{recipes.sample(5)[['id','minutes']].to_string(index = False)}\"\n"
   ]
  },
  {
   "cell_type": "code",
   "execution_count": 285,
   "metadata": {},
   "outputs": [],
   "source": [
    "df = recipes[['id','minutes']].sample(5)\n",
    "max_len_id = len(str(df.id.min()))\n",
    "max_len_minutes = len(str(df.minutes.min()))\n"
   ]
  },
  {
   "cell_type": "code",
   "execution_count": 463,
   "metadata": {},
   "outputs": [
    {
     "name": "stdout",
     "output_type": "stream",
     "text": [
      "|      id      |  minutes  | \n",
      "|--------------------------|\n",
      "|    103947    |    80     |\n",
      "|    231413    |    30     |\n",
      "|    37088     |     8     |\n",
      "|    18834     |    25     |\n",
      "|    188139    |    35     |\n"
     ]
    }
   ],
   "source": [
    "df = recipes[['id','minutes']].sample(5)\n",
    "max_len_id = len(str(df.id.max()))\n",
    "max_len_minutes = len(str(df.minutes.max()))\n",
    "\n",
    "print(f\"|{df.columns[0]:^{max_len_id*2+2}}|{df.columns[1]:^{max_len_id*2 - 1}}| \\n|{'-'*(max_len_id*2+2 + max_len_id*2)}|\")\n",
    "for i,j in zip(df['id'],df['minutes']):\n",
    "    print(f\"|{i:^{max_len_id*2+2}}|{j:^{max_len_id*2 -1}}|\")"
   ]
  },
  {
   "cell_type": "markdown",
   "metadata": {},
   "source": [
    "2\\. Напишите функцию `show_info`, которая по данным о рецепте создает строку (в смысле объекта python) с описанием следующего вида:\n",
    "\n",
    "```\n",
    "\"Название Из Нескольких Слов\"\n",
    "\n",
    "1. Шаг 1.\n",
    "2. Шаг 2.\n",
    "----------\n",
    "Автор: contributor_id\n",
    "Среднее время приготовления: minutes минут\n",
    "```\n",
    "\n",
    "    \n",
    "Данные для создания строки получите из файлов `recipes_sample.csv` (__ЛР2__) и `steps_sample.xml` (__ЛР3__). \n",
    "Вызовите данную функцию для рецепта с id `170895` и выведите (через `print`) полученную строку на экран."
   ]
  },
  {
   "cell_type": "code",
   "execution_count": 529,
   "metadata": {},
   "outputs": [],
   "source": [
    "from bs4 import BeautifulSoup \n",
    "\n",
    "with open('steps_sample.xml') as fd:\n",
    "    doc = BeautifulSoup(fd, 'xml')\n"
   ]
  },
  {
   "cell_type": "code",
   "execution_count": 530,
   "metadata": {},
   "outputs": [],
   "source": [
    "steps_sample = []\n",
    "for person in doc.recipes.find_all('recipe'):\n",
    "    ph = [phones.next for phones in person.steps.find_all('step')]\n",
    "    steps_sample.append({person.find('id').next: ph})\n",
    "# steps_sample"
   ]
  },
  {
   "cell_type": "code",
   "execution_count": 918,
   "metadata": {},
   "outputs": [],
   "source": [
    "# steps_sample"
   ]
  },
  {
   "cell_type": "code",
   "execution_count": 919,
   "metadata": {},
   "outputs": [],
   "source": [
    "# recipes.head()"
   ]
  },
  {
   "cell_type": "code",
   "execution_count": 694,
   "metadata": {},
   "outputs": [],
   "source": [
    "id_170895 = recipes[recipes['id'] == 170895]\n",
    "steps = [] \n",
    "minutes = id_170895['minutes'] \n",
    "author_id = id_170895['contributor_id'] \n",
    "name = id_170895['name']\n",
    "for i in steps_sample:\n",
    "    for k,v in i.items():\n",
    "        if int(k) == 170895:\n",
    "            steps = v\n"
   ]
  },
  {
   "attachments": {
    "image.png": {
     "image/png": "[encoded data removed]"
    }
   },
   "cell_type": "markdown",
   "metadata": {},
   "source": [
    "![image.png](attachment:image.png)"
   ]
  },
  {
   "cell_type": "code",
   "execution_count": 743,
   "metadata": {},
   "outputs": [],
   "source": [
    "def show_info(name, steps, minutes, author_id):\n",
    "\n",
    "        \n",
    "#     print(f'----------\\nАвтор: {int(author_id)}\\nСреднее время приготовления: {int(minutes)} минут\\n')\n",
    "    a = str(f'{name.to_string(index = False).title()}')\n",
    "    for i,j in enumerate(steps_sample):\n",
    "        b = f'\\n{i+1}. {j}'\n",
    "        print(b)\n",
    "#     for i, j in enumerate(steps, 1):\n",
    "#          print(f'{i}. {j.capitalize()}')\n",
    "#     print(f\"----------\")\n",
    "    \n",
    "    \n",
    "# assert (\n",
    "#     show_info(\n",
    "#         name=\"george s at the cove black bean soup\",\n",
    "#         steps=[\n",
    "#             \"clean the leeks and discard the dark green portions\",\n",
    "#             \"cut the leeks lengthwise then into one-inch pieces\",\n",
    "#             \"melt the butter in a medium skillet , med\",\n",
    "#         ],\n",
    "#         minutes=90,\n",
    "#         author_id=35193,\n",
    "#     )\n",
    "#     == '\"George S At The Cove Black Bean Soup\"\\n\\n1. Clean the leeks and discard the dark green portions\\n2. Cut the leeks lengthwise then into one-inch pieces\\n3. Melt the butter in a medium skillet , med\\n----------\\nАвтор: 35193\\nСреднее время приготовления: 90 минут\\n'\n",
    "# )"
   ]
  },
  {
   "cell_type": "code",
   "execution_count": 920,
   "metadata": {},
   "outputs": [],
   "source": [
    "# show_info(name, steps, minutes, author_id)"
   ]
  },
  {
   "cell_type": "code",
   "execution_count": null,
   "metadata": {},
   "outputs": [],
   "source": []
  },
  {
   "cell_type": "code",
   "execution_count": 636,
   "metadata": {},
   "outputs": [],
   "source": [
    "def show_info(id,recipes):#, id_xml\n",
    "    for i in steps_sample:\n",
    "        for k,v in i.items():\n",
    "            if int(k) == id:\n",
    "                    val = recipes[recipes['id'] == 170895]\n",
    "                    print(f\"{val['name']}\")\n",
    "                    for j in range(len(v)):\n",
    "                        print(f\"{j+1}.{v[j]}\")\n",
    "                        \n",
    "        \n",
    "    \n",
    "\n",
    "# assert (\n",
    "#     show_info(\n",
    "#         name=\"george s at the cove black bean soup\",\n",
    "#         steps=[\n",
    "#             \"clean the leeks and discard the dark green portions\",\n",
    "#             \"cut the leeks lengthwise then into one-inch pieces\",\n",
    "#             \"melt the butter in a medium skillet , med\",\n",
    "#         ],\n",
    "#         minutes=90,\n",
    "#         author_id=35193,\n",
    "#     )\n",
    "#     == '\"George S At The Cove Black Bean Soup\"\\n\\n1. Clean the leeks and discard the dark green portions\\n2. Cut the leeks lengthwise then into one-inch pieces\\n3. Melt the butter in a medium skillet , med\\n----------\\nАвтор: 35193\\nСреднее время приготовления: 90 минут\\n'\n",
    "# )"
   ]
  },
  {
   "cell_type": "code",
   "execution_count": 637,
   "metadata": {},
   "outputs": [
    {
     "name": "stdout",
     "output_type": "stream",
     "text": [
      "15754    leeks and parsnips  sauteed or creamed\n",
      "Name: name, dtype: object\n",
      "1.clean the leeks and discard the dark green portions\n",
      "2.cut the leeks lengthwise then into one-inch pieces\n",
      "3.melt the butter in a medium skillet , med\n",
      "4.heat\n",
      "5.add the garlic and fry 'til fragrant\n",
      "6.add leeks and fry until the leeks are tender , about 6-minutes\n",
      "7.meanwhile , peel and chunk the parsnips into one-inch pieces\n",
      "8.place in a steaming basket and steam 'til they are as tender as you prefer\n",
      "9.i like them fork-tender\n",
      "10.drain parsnips and add to the skillet with the leeks\n",
      "11.add salt and pepper\n",
      "12.gently sautee together for 5-minutes\n",
      "13.at this point you can serve it , or continue on and cream it:\n",
      "14.in a jar with a screw top , add the half-n-half and arrowroot\n",
      "15.shake 'til blended\n",
      "16.turn heat to low under the leeks and parsnips\n",
      "17.pour in the arrowroot mixture , stirring gently as you pour\n",
      "18.if too thick , gradually add the water\n",
      "19.let simmer for a couple of minutes\n",
      "20.taste to adjust seasoning , probably an additional 1 / 2 teaspoon salt\n",
      "21.serve warm\n"
     ]
    }
   ],
   "source": [
    "show_info(170895,recipes)"
   ]
  },
  {
   "cell_type": "code",
   "execution_count": 595,
   "metadata": {},
   "outputs": [
    {
     "data": {
      "text/html": [
       "<div>\n",
       "<style scoped>\n",
       "    .dataframe tbody tr th:only-of-type {\n",
       "        vertical-align: middle;\n",
       "    }\n",
       "\n",
       "    .dataframe tbody tr th {\n",
       "        vertical-align: top;\n",
       "    }\n",
       "\n",
       "    .dataframe thead th {\n",
       "        text-align: right;\n",
       "    }\n",
       "</style>\n",
       "<table border=\"1\" class=\"dataframe\">\n",
       "  <thead>\n",
       "    <tr style=\"text-align: right;\">\n",
       "      <th></th>\n",
       "      <th>name</th>\n",
       "      <th>id</th>\n",
       "      <th>minutes</th>\n",
       "      <th>contributor_id</th>\n",
       "      <th>submitted</th>\n",
       "      <th>n_steps</th>\n",
       "      <th>description</th>\n",
       "      <th>n_ingredients</th>\n",
       "    </tr>\n",
       "  </thead>\n",
       "  <tbody>\n",
       "    <tr>\n",
       "      <th>15754</th>\n",
       "      <td>leeks and parsnips  sauteed or creamed</td>\n",
       "      <td>170895</td>\n",
       "      <td>27</td>\n",
       "      <td>8377</td>\n",
       "      <td>2006-05-31</td>\n",
       "      <td>21.0</td>\n",
       "      <td>this is good sauteed only or creamed. very eas...</td>\n",
       "      <td>9.0</td>\n",
       "    </tr>\n",
       "  </tbody>\n",
       "</table>\n",
       "</div>"
      ],
      "text/plain": [
       "                                         name      id  minutes  \\\n",
       "15754  leeks and parsnips  sauteed or creamed  170895       27   \n",
       "\n",
       "       contributor_id   submitted  n_steps  \\\n",
       "15754            8377  2006-05-31     21.0   \n",
       "\n",
       "                                             description  n_ingredients  \n",
       "15754  this is good sauteed only or creamed. very eas...            9.0  "
      ]
     },
     "execution_count": 595,
     "metadata": {},
     "output_type": "execute_result"
    }
   ],
   "source": []
  },
  {
   "cell_type": "markdown",
   "metadata": {},
   "source": [
    "## Работа с регулярными выражениями"
   ]
  },
  {
   "cell_type": "markdown",
   "metadata": {},
   "source": [
    "3\\. Напишите регулярное выражение, которое ищет следующий паттерн в строке: число (1 цифра или более), затем пробел, затем слова: hour или hours или minute или minutes. Произведите поиск по данному регулярному выражению в каждом шаге рецепта с id 25082. Выведите на экран все непустые результаты, найденные по данному шаблону."
   ]
  },
  {
   "cell_type": "code",
   "execution_count": 913,
   "metadata": {},
   "outputs": [
    {
     "name": "stdout",
     "output_type": "stream",
     "text": [
      "['20 minutes', '10 minutes', '2 hours', '10 minutes', '20 minutes', '30 minutes']\n"
     ]
    }
   ],
   "source": [
    "import re\n",
    "val = []\n",
    "for i in steps_sample:\n",
    "    for k,v in i.items():\n",
    "        if int(k) == 25082:\n",
    "            val = v\n",
    "            \n",
    "mean = ''.join(val)\n",
    "res = re.compile(r'[0-9]+ (?:hours|minutes|hour|minute)')\n",
    "print(res.findall(mean))"
   ]
  },
  {
   "cell_type": "markdown",
   "metadata": {},
   "source": [
    "4\\. Напишите регулярное выражение, которое ищет шаблон вида \"this..., but\" _в начале строки_ . Между словом \"this\" и частью \", but\" может находиться произвольное число букв, цифр, знаков подчеркивания и пробелов. Никаких других символов вместо многоточия быть не может. Пробел между запятой и словом \"but\" может присутствовать или отсутствовать.\n",
    "\n",
    "Используя строковые методы `pd.Series`, выясните, для каких рецептов данный шаблон содержится в тексте описания. Выведите на экран количество таких рецептов и 3 примера подходящих описаний (текст описания должен быть виден на экране полностью)."
   ]
  },
  {
   "cell_type": "code",
   "execution_count": null,
   "metadata": {},
   "outputs": [],
   "source": []
  },
  {
   "cell_type": "markdown",
   "metadata": {},
   "source": [
    "5\\. В текстах шагов рецептов обыкновенные дроби имеют вид \"a / b\". Используя регулярные выражения, уберите в тексте шагов рецепта с id 72367 пробелы до и после символа дроби. Выведите на экран шаги этого рецепта после их изменения."
   ]
  },
  {
   "cell_type": "markdown",
   "metadata": {},
   "source": [
    "### Сегментация текста"
   ]
  },
  {
   "cell_type": "markdown",
   "metadata": {},
   "source": [
    "6\\. Разбейте тексты шагов рецептов на слова при помощи пакета `nltk`. Посчитайте и выведите на экран кол-во уникальных слов среди всех рецептов. Словом называется любая последовательность алфавитных символов (для проверки можно воспользоваться `str.isalpha`). При подсчете количества уникальных слов не учитывайте регистр."
   ]
  },
  {
   "cell_type": "markdown",
   "metadata": {},
   "source": [
    "7\\. Разбейте описания рецептов из `recipes` на предложения при помощи пакета `nltk`. Найдите 5 самых длинных описаний (по количеству _предложений_) рецептов в датасете и выведите строки фрейма, соответствующие этим рецептами, в порядке убывания длины."
   ]
  },
  {
   "cell_type": "markdown",
   "metadata": {},
   "source": [
    "8\\. Напишите функцию, которая для заданного предложения выводит информацию о частях речи слов, входящих в предложение, в следующем виде:\n",
    "```\n",
    "PRP   VBD   DT      NNS     CC   VBD      NNS        RB   \n",
    " I  omitted the raspberries and added strawberries instead\n",
    "``` \n",
    "Для определения части речи слова можно воспользоваться `nltk.pos_tag`.\n",
    "\n",
    "Проверьте работоспособность функции на названии рецепта с id 241106.\n",
    "\n",
    "Обратите внимание, что часть речи должна находиться ровно посередине над соотвествующим словом, а между самими словами должен быть ровно один пробел.\n"
   ]
  },
  {
   "cell_type": "code",
   "execution_count": 922,
   "metadata": {},
   "outputs": [
    {
     "name": "stdout",
     "output_type": "stream",
     "text": [
      "b'\\xff', 0x80, 00001111, 16.000000\n"
     ]
    }
   ],
   "source": [
    "vаl = [15, bytes([255]), 32, 128]\n",
    "print(f'{vаl[1]}, {vаl[-1]:#x}, {vаl[0]:08b}, {vаl[2]/2:f}')"
   ]
  },
  {
   "cell_type": "code",
   "execution_count": 927,
   "metadata": {},
   "outputs": [],
   "source": [
    "import re\n",
    "\n",
    "tеxt = '''Я экспериментировал и с новыми видами меда, других сладостей и продуктов происхождения, таких как амарант. Грецкие орехи и амаранта были моей  любимой едой, и я продолжал их выращивать. Каждый месяц я ездил в  Фоз-де-Франс, чтобы купить  75 кг яблок и груш, и 70 кг вишни, и 50 кг цветов, чтобы сделать  ароматные и необычные конфеты с добавлением розового масла. Каждая конфета пропитывалась капелькой розового вина, а белый шоколад был единснвенным моим другом. Скоро я приступлю к производству патентованных конфет с разными вкусами и ароматами!'''"
   ]
  },
  {
   "cell_type": "code",
   "execution_count": 930,
   "metadata": {},
   "outputs": [
    {
     "name": "stdout",
     "output_type": "stream",
     "text": [
      "['экспериментировал', 'сладостей', 'орехи', 'продолжал', 'яблок', 'ароматные', 'вкусами']\n"
     ]
    }
   ],
   "source": [
    "print(re.findall(r\"(\\w{5,})\\sи\", tеxt))"
   ]
  },
  {
   "cell_type": "code",
   "execution_count": 931,
   "metadata": {},
   "outputs": [
    {
     "name": "stdout",
     "output_type": "stream",
     "text": [
      "[]\n"
     ]
    }
   ],
   "source": [
    "print(re.findall(r\"(\\b\\w*5+})\\s(и)\", tеxt))"
   ]
  },
  {
   "cell_type": "code",
   "execution_count": 932,
   "metadata": {},
   "outputs": [
    {
     "name": "stdout",
     "output_type": "stream",
     "text": [
      "['экспериментировал', 'сладостей', 'орехи', 'яблок', 'ароматные', 'вкусами']\n"
     ]
    }
   ],
   "source": [
    "print(re.findall(r\"\\b(\\w{5,})\\s(?:и)\\b\", tеxt))"
   ]
  },
  {
   "cell_type": "code",
   "execution_count": 933,
   "metadata": {},
   "outputs": [
    {
     "name": "stdout",
     "output_type": "stream",
     "text": [
      "['и', 'и', 'и', 'и', 'и', 'и', 'и']\n"
     ]
    }
   ],
   "source": [
    "print(re.findall(r\"\\b\\w{5,}\\s(и)\", tеxt))"
   ]
  },
  {
   "cell_type": "code",
   "execution_count": 934,
   "metadata": {},
   "outputs": [
    {
     "name": "stdout",
     "output_type": "stream",
     "text": [
      "['экспериментировал', 'сладостей', 'орехи', 'продолжал', 'яблок', 'ароматные', 'вкусами']\n"
     ]
    }
   ],
   "source": [
    "print(re.findall(r\"\\b(\\w{5,})\\s(?:и)\", tеxt))"
   ]
  }
 ],
 "metadata": {
  "kernelspec": {
   "display_name": "Python 3",
   "language": "python",
   "name": "python3"
  },
  "language_info": {
   "codemirror_mode": {
    "name": "ipython",
    "version": 3
   },
   "file_extension": ".py",
   "mimetype": "text/x-python",
   "name": "python",
   "nbconvert_exporter": "python",
   "pygments_lexer": "ipython3",
   "version": "3.8.3"
  }
 },
 "nbformat": 4,
 "nbformat_minor": 4
}
